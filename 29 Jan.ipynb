{
 "cells": [
  {
   "cell_type": "code",
   "execution_count": null,
   "id": "2c99f944",
   "metadata": {},
   "outputs": [],
   "source": [
    "##Single line comment "
   ]
  },
  {
   "cell_type": "code",
   "execution_count": 8,
   "id": "20cdcc25",
   "metadata": {},
   "outputs": [
    {
     "data": {
      "text/plain": [
       "10"
      ]
     },
     "execution_count": 8,
     "metadata": {},
     "output_type": "execute_result"
    }
   ],
   "source": [
    "\"\"\"\n",
    "This a multiline comment\n",
    "\"\"\"\n",
    "a=10\n",
    "a"
   ]
  },
  {
   "cell_type": "code",
   "execution_count": 49,
   "id": "c533fb0c",
   "metadata": {},
   "outputs": [
    {
     "name": "stdout",
     "output_type": "stream",
     "text": [
      "Enter your choice number2\n",
      "Enter the value of length 3\n",
      "Enter the value of  breadth2\n"
     ]
    },
    {
     "data": {
      "text/plain": [
       "6.0"
      ]
     },
     "execution_count": 49,
     "metadata": {},
     "output_type": "execute_result"
    }
   ],
   "source": [
    "\n",
    "ch=int(input(\"Enter your choice number\"))\n",
    "if ch==1:\n",
    "    a=[]\n",
    "    r=float(input(\"Enter radius value\"))\n",
    "    a.append(r)\n",
    "else:\n",
    "    a=[]\n",
    "    l=float(input(\"Enter the value of length \"))\n",
    "    b=float(input(\"Enter the value of  breadth\"))\n",
    "    a.append(l) \n",
    "    a.append(b) \n",
    "\n",
    "def areaSwitchCase(ch: int, a: list[float]):\n",
    "    # Write your code here\n",
    "    match ch:\n",
    "        case 1:\n",
    "            return 3.14*a[0]*a[0]\n",
    "        case 2:\n",
    "            return a[0]*a[1]\n",
    "        case _:\n",
    "            return (\"Invalid input\")\n",
    "            \n",
    "areaSwitchCase(ch,a)"
   ]
  },
  {
   "cell_type": "code",
   "execution_count": 52,
   "id": "23650588",
   "metadata": {},
   "outputs": [
    {
     "name": "stdout",
     "output_type": "stream",
     "text": [
      "Enter your choice number2\n",
      "2 3\n"
     ]
    },
    {
     "data": {
      "text/plain": [
       "6"
      ]
     },
     "execution_count": 52,
     "metadata": {},
     "output_type": "execute_result"
    }
   ],
   "source": [
    "ch=int(input(\"Enter your choice number\"))\n",
    "if ch==1:\n",
    "    a=[]\n",
    "    r=float(input(\"Enter radius value\"))\n",
    "    a.append(r)\n",
    "else:\n",
    "    a=[]\n",
    "    l, b = [int(x) for x in input().split()] \n",
    "    a.append(l) \n",
    "    a.append(b) \n",
    "\n",
    "def areaSwitchCase(ch: int, a: list[float]):\n",
    "    # Write your code here\n",
    "    match ch:\n",
    "        case 1:\n",
    "            area= 3.14*a[0]*a[0]\n",
    "            return area\n",
    "        case 2:\n",
    "            area=a[0]*a[1]\n",
    "            return area\n",
    "        case _:\n",
    "            return \"Invalid input\"\n",
    "\n",
    "areaSwitchCase(ch,a)"
   ]
  },
  {
   "cell_type": "code",
   "execution_count": 39,
   "id": "8d66a851",
   "metadata": {},
   "outputs": [
    {
     "data": {
      "text/plain": [
       "8"
      ]
     },
     "execution_count": 39,
     "metadata": {},
     "output_type": "execute_result"
    }
   ],
   "source": [
    "import ctypes \n",
    "ctypes.sizeof(ctypes.c_ulonglong)"
   ]
  },
  {
   "cell_type": "code",
   "execution_count": 62,
   "id": "ccdf4b64",
   "metadata": {},
   "outputs": [
    {
     "name": "stdout",
     "output_type": "stream",
     "text": [
      "Enter a number123\n"
     ]
    },
    {
     "data": {
      "text/plain": [
       "0"
      ]
     },
     "execution_count": 62,
     "metadata": {},
     "output_type": "execute_result"
    }
   ],
   "source": [
    "n=int(input(\"Enter a number\"))\n",
    "\n",
    "def even_odd(n):\n",
    "    even=0\n",
    "    odd=0\n",
    "    while(n!=0):\n",
    "        rem=n%10\n",
    "        if rem%2==0:\n",
    "            even=even+rem\n",
    "        else:\n",
    "            odd=odd+rem\n",
    "        n=n/10\n",
    "\n",
    "    return even\n",
    "\n",
    "even_odd(n)"
   ]
  },
  {
   "cell_type": "code",
   "execution_count": 61,
   "id": "a2feb847",
   "metadata": {},
   "outputs": [
    {
     "data": {
      "text/plain": [
       "12"
      ]
     },
     "execution_count": 61,
     "metadata": {},
     "output_type": "execute_result"
    }
   ],
   "source": [
    "int(123/10)"
   ]
  },
  {
   "cell_type": "markdown",
   "id": "36715c64",
   "metadata": {},
   "source": [
    "1.Hello guys (this is used as a heading)"
   ]
  },
  {
   "cell_type": "markdown",
   "id": "936e08e7",
   "metadata": {},
   "source": [
    "###Python numbers "
   ]
  },
  {
   "cell_type": "code",
   "execution_count": 9,
   "id": "deb73e9d",
   "metadata": {},
   "outputs": [
    {
     "data": {
      "text/plain": [
       "4"
      ]
     },
     "execution_count": 9,
     "metadata": {},
     "output_type": "execute_result"
    }
   ],
   "source": [
    "1+3 #(This is not displaying something )"
   ]
  },
  {
   "cell_type": "code",
   "execution_count": 10,
   "id": "f45c2a72",
   "metadata": {},
   "outputs": [
    {
     "name": "stdout",
     "output_type": "stream",
     "text": [
      "4\n"
     ]
    }
   ],
   "source": [
    "print(1+3)   #using print function it act as a output console(displaying something)"
   ]
  },
  {
   "cell_type": "code",
   "execution_count": 11,
   "id": "ca59e646",
   "metadata": {},
   "outputs": [
    {
     "name": "stdout",
     "output_type": "stream",
     "text": [
      "Hello my self deepa\n",
      " and i just began this course\n"
     ]
    }
   ],
   "source": [
    "print(\"Hello my self deepa\\n and i just began this course\")"
   ]
  },
  {
   "cell_type": "code",
   "execution_count": 15,
   "id": "f9952948",
   "metadata": {},
   "outputs": [
    {
     "data": {
      "text/plain": [
       "'Deepa'"
      ]
     },
     "execution_count": 15,
     "metadata": {},
     "output_type": "execute_result"
    }
   ],
   "source": [
    "name=\"Deepa\"\n",
    "collage=\"YMCA\"\n",
    "name"
   ]
  },
  {
   "cell_type": "code",
   "execution_count": 16,
   "id": "d6d595c8",
   "metadata": {},
   "outputs": [
    {
     "data": {
      "text/plain": [
       "'YMCA'"
      ]
     },
     "execution_count": 16,
     "metadata": {},
     "output_type": "execute_result"
    }
   ],
   "source": [
    "collage"
   ]
  },
  {
   "cell_type": "code",
   "execution_count": 18,
   "id": "6af48e2a",
   "metadata": {},
   "outputs": [
    {
     "data": {
      "text/plain": [
       "'Yashika'"
      ]
     },
     "execution_count": 18,
     "metadata": {},
     "output_type": "execute_result"
    }
   ],
   "source": [
    "name=\"Yashika\"\n",
    "name  #override the previous variable "
   ]
  },
  {
   "cell_type": "code",
   "execution_count": 19,
   "id": "eeb97ffb",
   "metadata": {},
   "outputs": [
    {
     "data": {
      "text/plain": [
       "str"
      ]
     },
     "execution_count": 19,
     "metadata": {},
     "output_type": "execute_result"
    }
   ],
   "source": [
    "type(name)"
   ]
  },
  {
   "cell_type": "code",
   "execution_count": 17,
   "id": "d56633b7",
   "metadata": {},
   "outputs": [
    {
     "data": {
      "text/plain": [
       "float"
      ]
     },
     "execution_count": 17,
     "metadata": {},
     "output_type": "execute_result"
    }
   ],
   "source": [
    "num=3.46\n",
    "type(num)"
   ]
  },
  {
   "cell_type": "code",
   "execution_count": 22,
   "id": "fff9cebf",
   "metadata": {},
   "outputs": [
    {
     "data": {
      "text/plain": [
       "complex"
      ]
     },
     "execution_count": 22,
     "metadata": {},
     "output_type": "execute_result"
    }
   ],
   "source": [
    "type(5+2j)"
   ]
  },
  {
   "cell_type": "code",
   "execution_count": null,
   "id": "e7c56779",
   "metadata": {},
   "outputs": [],
   "source": [
    "#Dont start a variable name with number   1a ,3number\n",
    "#Variable names are case sensitive\n",
    "#Dont use a reserve keyword as a variable   (like:return,yield,int,float,complex,bool)"
   ]
  },
  {
   "cell_type": "code",
   "execution_count": 24,
   "id": "dbd4f990",
   "metadata": {},
   "outputs": [
    {
     "name": "stdout",
     "output_type": "stream",
     "text": [
      "Gurugram\n",
      "Bihar\n"
     ]
    }
   ],
   "source": [
    "Home=\"Gurugram\"\n",
    "home=\"Bihar\"\n",
    "print(Home)\n",
    "print(home)"
   ]
  },
  {
   "cell_type": "code",
   "execution_count": 31,
   "id": "e906aeba",
   "metadata": {},
   "outputs": [
    {
     "data": {
      "text/plain": [
       "False"
      ]
     },
     "execution_count": 31,
     "metadata": {},
     "output_type": "execute_result"
    }
   ],
   "source": [
    "#Boolean and logic gates\n",
    "True and False"
   ]
  },
  {
   "cell_type": "code",
   "execution_count": 32,
   "id": "6a6195ee",
   "metadata": {},
   "outputs": [
    {
     "data": {
      "text/plain": [
       "True"
      ]
     },
     "execution_count": 32,
     "metadata": {},
     "output_type": "execute_result"
    }
   ],
   "source": [
    "True or False"
   ]
  },
  {
   "cell_type": "code",
   "execution_count": 29,
   "id": "55ea385c",
   "metadata": {},
   "outputs": [
    {
     "data": {
      "text/plain": [
       "False"
      ]
     },
     "execution_count": 29,
     "metadata": {},
     "output_type": "execute_result"
    }
   ],
   "source": [
    "not True  "
   ]
  },
  {
   "cell_type": "code",
   "execution_count": 30,
   "id": "2b46976c",
   "metadata": {},
   "outputs": [
    {
     "data": {
      "text/plain": [
       "True"
      ]
     },
     "execution_count": 30,
     "metadata": {},
     "output_type": "execute_result"
    }
   ],
   "source": [
    "not False"
   ]
  },
  {
   "cell_type": "code",
   "execution_count": 33,
   "id": "6692af14",
   "metadata": {},
   "outputs": [
    {
     "data": {
      "text/plain": [
       "True"
      ]
     },
     "execution_count": 33,
     "metadata": {},
     "output_type": "execute_result"
    }
   ],
   "source": [
    "bool(1) #Actually a typecasting"
   ]
  },
  {
   "cell_type": "code",
   "execution_count": 34,
   "id": "1810abbf",
   "metadata": {},
   "outputs": [
    {
     "data": {
      "text/plain": [
       "False"
      ]
     },
     "execution_count": 34,
     "metadata": {},
     "output_type": "execute_result"
    }
   ],
   "source": [
    "bool(0)  #Actually a typecasting"
   ]
  },
  {
   "cell_type": "code",
   "execution_count": 35,
   "id": "4d7e0b86",
   "metadata": {},
   "outputs": [
    {
     "name": "stdout",
     "output_type": "stream",
     "text": [
      "Its true\n"
     ]
    }
   ],
   "source": [
    "a=1\n",
    "if bool(a)==True:\n",
    "    print(\"Its true\")"
   ]
  },
  {
   "cell_type": "code",
   "execution_count": 37,
   "id": "77bc073b",
   "metadata": {},
   "outputs": [
    {
     "data": {
      "text/plain": [
       "14"
      ]
     },
     "execution_count": 37,
     "metadata": {},
     "output_type": "execute_result"
    }
   ],
   "source": [
    "int('14')"
   ]
  },
  {
   "cell_type": "code",
   "execution_count": 38,
   "id": "d7b21703",
   "metadata": {},
   "outputs": [
    {
     "data": {
      "text/plain": [
       "'14'"
      ]
     },
     "execution_count": 38,
     "metadata": {},
     "output_type": "execute_result"
    }
   ],
   "source": [
    "str(14)"
   ]
  },
  {
   "cell_type": "code",
   "execution_count": 39,
   "id": "4b026622",
   "metadata": {},
   "outputs": [
    {
     "data": {
      "text/plain": [
       "34"
      ]
     },
     "execution_count": 39,
     "metadata": {},
     "output_type": "execute_result"
    }
   ],
   "source": [
    "int(34.56)"
   ]
  },
  {
   "cell_type": "code",
   "execution_count": 40,
   "id": "150ff501",
   "metadata": {},
   "outputs": [
    {
     "ename": "NameError",
     "evalue": "name 'abc' is not defined",
     "output_type": "error",
     "traceback": [
      "\u001b[1;31m---------------------------------------------------------------------------\u001b[0m",
      "\u001b[1;31mNameError\u001b[0m                                 Traceback (most recent call last)",
      "Cell \u001b[1;32mIn[40], line 1\u001b[0m\n\u001b[1;32m----> 1\u001b[0m \u001b[38;5;28mint\u001b[39m(\u001b[43mabc\u001b[49m)\n",
      "\u001b[1;31mNameError\u001b[0m: name 'abc' is not defined"
     ]
    }
   ],
   "source": [
    "int(abc)  #it will generate error while typecasting"
   ]
  },
  {
   "cell_type": "code",
   "execution_count": null,
   "id": "c6d7226c",
   "metadata": {},
   "outputs": [],
   "source": [
    "#cancatination between different variable"
   ]
  },
  {
   "cell_type": "code",
   "execution_count": 41,
   "id": "24464c90",
   "metadata": {},
   "outputs": [
    {
     "data": {
      "text/plain": [
       "'11'"
      ]
     },
     "execution_count": 41,
     "metadata": {},
     "output_type": "execute_result"
    }
   ],
   "source": [
    "\"1\"+\"1\""
   ]
  },
  {
   "cell_type": "code",
   "execution_count": 42,
   "id": "efe6254c",
   "metadata": {},
   "outputs": [
    {
     "data": {
      "text/plain": [
       "2"
      ]
     },
     "execution_count": 42,
     "metadata": {},
     "output_type": "execute_result"
    }
   ],
   "source": [
    "int(\"1\")+int(\"1\")"
   ]
  },
  {
   "cell_type": "code",
   "execution_count": null,
   "id": "7613ec48",
   "metadata": {},
   "outputs": [],
   "source": [
    "int(\"1\")+\"1\"  #It will generate error"
   ]
  },
  {
   "cell_type": "code",
   "execution_count": 43,
   "id": "de16b742",
   "metadata": {},
   "outputs": [
    {
     "ename": "TypeError",
     "evalue": "can't multiply sequence by non-int of type 'str'",
     "output_type": "error",
     "traceback": [
      "\u001b[1;31m---------------------------------------------------------------------------\u001b[0m",
      "\u001b[1;31mTypeError\u001b[0m                                 Traceback (most recent call last)",
      "Cell \u001b[1;32mIn[43], line 1\u001b[0m\n\u001b[1;32m----> 1\u001b[0m \u001b[38;5;124;43m\"\u001b[39;49m\u001b[38;5;124;43m1\u001b[39;49m\u001b[38;5;124;43m\"\u001b[39;49m\u001b[38;5;241;43m*\u001b[39;49m\u001b[38;5;124;43m\"\u001b[39;49m\u001b[38;5;124;43m1\u001b[39;49m\u001b[38;5;124;43m\"\u001b[39;49m\n",
      "\u001b[1;31mTypeError\u001b[0m: can't multiply sequence by non-int of type 'str'"
     ]
    }
   ],
   "source": [
    "\"1\"*\"1\"  #Error cant multiple two string "
   ]
  },
  {
   "cell_type": "code",
   "execution_count": 44,
   "id": "12aa923a",
   "metadata": {},
   "outputs": [
    {
     "data": {
      "text/plain": [
       "'1111111111'"
      ]
     },
     "execution_count": 44,
     "metadata": {},
     "output_type": "execute_result"
    }
   ],
   "source": [
    "\"1\"*10  # instead we can do this "
   ]
  }
 ],
 "metadata": {
  "kernelspec": {
   "display_name": "Python 3 (ipykernel)",
   "language": "python",
   "name": "python3"
  },
  "language_info": {
   "codemirror_mode": {
    "name": "ipython",
    "version": 3
   },
   "file_extension": ".py",
   "mimetype": "text/x-python",
   "name": "python",
   "nbconvert_exporter": "python",
   "pygments_lexer": "ipython3",
   "version": "3.11.5"
  }
 },
 "nbformat": 4,
 "nbformat_minor": 5
}

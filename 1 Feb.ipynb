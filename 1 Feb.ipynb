{
 "cells": [
  {
   "cell_type": "markdown",
   "id": "d8abf334",
   "metadata": {},
   "source": [
    "How to copy code from github and how to push any project from ide to github"
   ]
  },
  {
   "cell_type": "code",
   "execution_count": 5,
   "id": "0392d23f",
   "metadata": {},
   "outputs": [
    {
     "data": {
      "text/plain": [
       "<reversed at 0x1bfc1a457b0>"
      ]
     },
     "execution_count": 5,
     "metadata": {},
     "output_type": "execute_result"
    }
   ],
   "source": [
    "reversed(name) #we will get an object stored at this particular address"
   ]
  },
  {
   "cell_type": "code",
   "execution_count": 6,
   "id": "1588f977",
   "metadata": {},
   "outputs": [
    {
     "data": {
      "text/plain": [
       "'a p e e D'"
      ]
     },
     "execution_count": 6,
     "metadata": {},
     "output_type": "execute_result"
    }
   ],
   "source": [
    "#How to see a string instead of object address\n",
    "\" \".join(reversed(name))"
   ]
  },
  {
   "cell_type": "code",
   "execution_count": 7,
   "id": "1412f1a2",
   "metadata": {},
   "outputs": [
    {
     "data": {
      "text/plain": [
       "'GDeepauDeepapDeepatDeepaa'"
      ]
     },
     "execution_count": 7,
     "metadata": {},
     "output_type": "execute_result"
    }
   ],
   "source": [
    "\"Deepa\".join(\"Gupta\") #Every string try to get cancatinated\n",
    "#Gupta will be join characterwise(first g will be print then Deepa)"
   ]
  },
  {
   "cell_type": "code",
   "execution_count": 8,
   "id": "a6ced42e",
   "metadata": {},
   "outputs": [
    {
     "data": {
      "text/plain": [
       "'a pwskills p pwskills e pwskills e pwskills D'"
      ]
     },
     "execution_count": 8,
     "metadata": {},
     "output_type": "execute_result"
    }
   ],
   "source": [
    "\" pwskills \".join(reversed(\"Deepa\"))  #Deepa will be execute in reverse\n",
    "#Reverse function return a string "
   ]
  },
  {
   "cell_type": "code",
   "execution_count": 10,
   "id": "e31eed3c",
   "metadata": {},
   "outputs": [
    {
     "data": {
      "text/plain": [
       "['t', 'n', 'a']"
      ]
     },
     "execution_count": 10,
     "metadata": {},
     "output_type": "execute_result"
    }
   ],
   "source": [
    "#other way \n",
    "#typecasting of reverse\n",
    "list(reversed(\"ant\"))"
   ]
  },
  {
   "cell_type": "code",
   "execution_count": 15,
   "id": "5ab5729c",
   "metadata": {},
   "outputs": [
    {
     "name": "stdout",
     "output_type": "stream",
     "text": [
      "apeeD"
     ]
    }
   ],
   "source": [
    "#reverse save the characters in a contigaous memory spaces\n",
    "for i in list(reversed(\"Deepa\")):\n",
    "    print(i,end=\"\")"
   ]
  },
  {
   "cell_type": "code",
   "execution_count": null,
   "id": "bc7f2a38",
   "metadata": {},
   "outputs": [],
   "source": [
    "#removing characters from end of the string"
   ]
  },
  {
   "cell_type": "code",
   "execution_count": 16,
   "id": "1550ad08",
   "metadata": {},
   "outputs": [
    {
     "data": {
      "text/plain": [
       "'pw  skills'"
      ]
     },
     "execution_count": 16,
     "metadata": {},
     "output_type": "execute_result"
    }
   ],
   "source": [
    "string=\"     pw  skills    \"\n",
    "string.strip(\" \")   #remove the spaces in initial and end of string"
   ]
  },
  {
   "cell_type": "code",
   "execution_count": 17,
   "id": "f34d79e8",
   "metadata": {},
   "outputs": [
    {
     "data": {
      "text/plain": [
       "'pw  skills    '"
      ]
     },
     "execution_count": 17,
     "metadata": {},
     "output_type": "execute_result"
    }
   ],
   "source": [
    "string.lstrip(\" \") # the left spaces will be removed"
   ]
  },
  {
   "cell_type": "code",
   "execution_count": 18,
   "id": "a5b63ac7",
   "metadata": {},
   "outputs": [
    {
     "data": {
      "text/plain": [
       "'     pw  skills'"
      ]
     },
     "execution_count": 18,
     "metadata": {},
     "output_type": "execute_result"
    }
   ],
   "source": [
    "string.rstrip(\" \") # the right spaces will be removed"
   ]
  },
  {
   "cell_type": "code",
   "execution_count": 19,
   "id": "c8bf72b4",
   "metadata": {},
   "outputs": [
    {
     "data": {
      "text/plain": [
       "'Greeting to pwskills'"
      ]
     },
     "execution_count": 19,
     "metadata": {},
     "output_type": "execute_result"
    }
   ],
   "source": [
    "string=\"Greeting from pwskills\"\n",
    "string.replace(\"from\",\"to\")   \n",
    "#replace the part of the string (we can replace words but not the characters)"
   ]
  },
  {
   "cell_type": "code",
   "execution_count": null,
   "id": "f798f0a3",
   "metadata": {},
   "outputs": [],
   "source": [
    "#string is immutable we can change the string but we can replace the string\n",
    "name=\"jai\"\n",
    "name=\"veeru\"\n",
    "name.replace('v','s')  #returns the new copy instead of changing the existing one\n",
    "#we can replace the special character as well( @ $ %)\n",
    "#cant do this\n",
    "name[1]='r'"
   ]
  },
  {
   "cell_type": "code",
   "execution_count": 22,
   "id": "ea683d00",
   "metadata": {},
   "outputs": [
    {
     "data": {
      "text/plain": [
       "'Hello   World'"
      ]
     },
     "execution_count": 22,
     "metadata": {},
     "output_type": "execute_result"
    }
   ],
   "source": [
    "#\\t :expand tab\n",
    "\"Hello\\tWorld\".expandtabs()"
   ]
  },
  {
   "cell_type": "code",
   "execution_count": null,
   "id": "f2ddfc55",
   "metadata": {},
   "outputs": [],
   "source": [
    "#Exercise:\n",
    "# I have a string \n",
    "# str1=Welcome to pwskills.Welcome to Dat cience Master class\n",
    "#replace dat with data and cience with science"
   ]
  },
  {
   "cell_type": "code",
   "execution_count": 23,
   "id": "cab6588c",
   "metadata": {},
   "outputs": [
    {
     "data": {
      "text/plain": [
       "'Welcome to pwskills.Welcome to Data Science Master class'"
      ]
     },
     "execution_count": 23,
     "metadata": {},
     "output_type": "execute_result"
    }
   ],
   "source": [
    "str1=\"Welcome to pwskills.Welcome to Dat cience Master class\"\n",
    "str1.replace(\"Dat\",\"Data\").replace(\"cience\",\"Science\")"
   ]
  },
  {
   "cell_type": "code",
   "execution_count": 27,
   "id": "5c44f370",
   "metadata": {},
   "outputs": [
    {
     "data": {
      "text/plain": [
       "False"
      ]
     },
     "execution_count": 27,
     "metadata": {},
     "output_type": "execute_result"
    }
   ],
   "source": [
    "#Check string is upper case or not\n",
    "str1.isupper()"
   ]
  },
  {
   "cell_type": "code",
   "execution_count": 15,
   "id": "7ec45672",
   "metadata": {},
   "outputs": [
    {
     "data": {
      "text/plain": [
       "True"
      ]
     },
     "execution_count": 15,
     "metadata": {},
     "output_type": "execute_result"
    }
   ],
   "source": [
    "str=\"WE R GOOD\"\n",
    "str.isupper()"
   ]
  },
  {
   "cell_type": "code",
   "execution_count": 31,
   "id": "52292a74",
   "metadata": {},
   "outputs": [
    {
     "data": {
      "text/plain": [
       "False"
      ]
     },
     "execution_count": 31,
     "metadata": {},
     "output_type": "execute_result"
    }
   ],
   "source": [
    "#Check string is upper case or notstr1.lower()\n",
    "str1.islower()"
   ]
  },
  {
   "cell_type": "code",
   "execution_count": 32,
   "id": "97baa5ae",
   "metadata": {},
   "outputs": [
    {
     "data": {
      "text/plain": [
       "False"
      ]
     },
     "execution_count": 32,
     "metadata": {},
     "output_type": "execute_result"
    }
   ],
   "source": [
    "#Check string is space is there or not\n",
    "str1.isspace()"
   ]
  },
  {
   "cell_type": "code",
   "execution_count": 33,
   "id": "35cd7476",
   "metadata": {},
   "outputs": [
    {
     "data": {
      "text/plain": [
       "True"
      ]
     },
     "execution_count": 33,
     "metadata": {},
     "output_type": "execute_result"
    }
   ],
   "source": [
    "str=\" \"\n",
    "str.isspace()"
   ]
  },
  {
   "cell_type": "code",
   "execution_count": 34,
   "id": "9a2ae2f9",
   "metadata": {},
   "outputs": [
    {
     "name": "stdout",
     "output_type": "stream",
     "text": [
      "Hello\n"
     ]
    }
   ],
   "source": [
    "if str.isspace():  #applicaation to determine a empty string\n",
    "    print(\"Hello\")"
   ]
  },
  {
   "cell_type": "code",
   "execution_count": 38,
   "id": "591e9d33",
   "metadata": {},
   "outputs": [
    {
     "data": {
      "text/plain": [
       "'Welcome to pwskills.Welcome to Dat cience Master class'"
      ]
     },
     "execution_count": 38,
     "metadata": {},
     "output_type": "execute_result"
    }
   ],
   "source": [
    "str1"
   ]
  },
  {
   "cell_type": "code",
   "execution_count": 8,
   "id": "daa2509c",
   "metadata": {},
   "outputs": [
    {
     "data": {
      "text/plain": [
       "True"
      ]
     },
     "execution_count": 8,
     "metadata": {},
     "output_type": "execute_result"
    }
   ],
   "source": [
    "str1.endswith('s')     #comparision is case sensitive"
   ]
  },
  {
   "cell_type": "code",
   "execution_count": 6,
   "id": "e608becf",
   "metadata": {},
   "outputs": [
    {
     "data": {
      "text/plain": [
       "True"
      ]
     },
     "execution_count": 6,
     "metadata": {},
     "output_type": "execute_result"
    }
   ],
   "source": [
    "str1.startswith('W')  #comparision is case sensitive"
   ]
  },
  {
   "cell_type": "code",
   "execution_count": 12,
   "id": "f68a8655",
   "metadata": {},
   "outputs": [
    {
     "data": {
      "text/plain": [
       "False"
      ]
     },
     "execution_count": 12,
     "metadata": {},
     "output_type": "execute_result"
    }
   ],
   "source": [
    "str1.isalnum()  #alphabets and digits both"
   ]
  },
  {
   "cell_type": "code",
   "execution_count": 13,
   "id": "53e3b883",
   "metadata": {},
   "outputs": [
    {
     "name": "stdout",
     "output_type": "stream",
     "text": [
      "54\n"
     ]
    }
   ],
   "source": [
    "#To count the no of characcter of the string\n",
    "count=0\n",
    "for i in str1:\n",
    "    count=count+1\n",
    "print(count)"
   ]
  },
  {
   "cell_type": "code",
   "execution_count": 14,
   "id": "e48e5f07",
   "metadata": {},
   "outputs": [
    {
     "data": {
      "text/plain": [
       "54"
      ]
     },
     "execution_count": 14,
     "metadata": {},
     "output_type": "execute_result"
    }
   ],
   "source": [
    "len(str1)"
   ]
  },
  {
   "cell_type": "code",
   "execution_count": 30,
   "id": "e945a399",
   "metadata": {},
   "outputs": [
    {
     "name": "stdout",
     "output_type": "stream",
     "text": [
      "0 = W\n",
      "1 = E\n",
      "2 =  \n",
      "3 = R\n",
      "4 =  \n",
      "5 = G\n",
      "6 = O\n",
      "7 = O\n",
      "8 = D\n"
     ]
    }
   ],
   "source": [
    "#Display a string by one one letter\n",
    "for i in range(len(str)):\n",
    "    print(i,\"=\",str[i])"
   ]
  },
  {
   "cell_type": "code",
   "execution_count": 25,
   "id": "61fdf43e",
   "metadata": {},
   "outputs": [
    {
     "name": "stdout",
     "output_type": "stream",
     "text": [
      "8 = D\n",
      "7 = O\n",
      "6 = O\n",
      "5 = G\n",
      "4 =  \n",
      "3 = R\n",
      "2 =  \n",
      "1 = E\n",
      "0 = W\n"
     ]
    }
   ],
   "source": [
    "#How to use index to iterate the string in reverse direction\n",
    "for i in range(len(str)-1,-1,-1):           #len(str)-1 gives the last index, \n",
    "    print(i,\"=\",str[i])  #-1 represent the last iterator (till 0)      #-1 represent in reverse order"
   ]
  },
  {
   "cell_type": "code",
   "execution_count": 26,
   "id": "4b290006",
   "metadata": {},
   "outputs": [
    {
     "name": "stdout",
     "output_type": "stream",
     "text": [
      "s\n",
      "l\n",
      "l\n",
      "i\n",
      "k\n",
      "s\n",
      "w\n",
      "p\n"
     ]
    }
   ],
   "source": [
    "#Another way\n",
    "string=\"pwskills\"\n",
    "ch=len(string)-1\n",
    "while(ch>=0):\n",
    "    print(string[ch])\n",
    "    ch=ch-1"
   ]
  },
  {
   "cell_type": "code",
   "execution_count": 28,
   "id": "81f9a304",
   "metadata": {},
   "outputs": [
    {
     "name": "stdout",
     "output_type": "stream",
     "text": [
      "D\n",
      "O\n",
      "O\n",
      "G\n",
      " \n",
      "R\n",
      " \n",
      "E\n",
      "W\n"
     ]
    }
   ],
   "source": [
    "#another way\n",
    "for i in range(len(str)):\n",
    "    print(str[len(str)-(i+1)])"
   ]
  },
  {
   "cell_type": "code",
   "execution_count": 31,
   "id": "683a0215",
   "metadata": {},
   "outputs": [],
   "source": [
    "#Whether vowel or not\n",
    "name=\"pwskills\"\n",
    "vowel=\"AaEeIiOoUu\""
   ]
  },
  {
   "cell_type": "code",
   "execution_count": 36,
   "id": "feea4f59",
   "metadata": {},
   "outputs": [
    {
     "name": "stdout",
     "output_type": "stream",
     "text": [
      "p this is not a vowel\n",
      "w this is not a vowel\n",
      "s this is not a vowel\n",
      "k this is not a vowel\n",
      "i this is a vowel\n",
      "l this is not a vowel\n",
      "l this is not a vowel\n",
      "s this is not a vowel\n"
     ]
    }
   ],
   "source": [
    "for ch in name:\n",
    "    if ch in vowel:\n",
    "        print(\"{} this is a vowel\".format(ch))\n",
    "    else :\n",
    "        print(\"{} this is not a vowel\".format(ch))"
   ]
  },
  {
   "cell_type": "markdown",
   "id": "8106e9a7",
   "metadata": {},
   "source": [
    "#List\n",
    "(ordered collection of items)\n",
    "#Hashmap (unordered collection of items)"
   ]
  },
  {
   "cell_type": "code",
   "execution_count": 38,
   "id": "ad83bbd8",
   "metadata": {},
   "outputs": [
    {
     "data": {
      "text/plain": [
       "list"
      ]
     },
     "execution_count": 38,
     "metadata": {},
     "output_type": "execute_result"
    }
   ],
   "source": [
    "type([])"
   ]
  },
  {
   "cell_type": "code",
   "execution_count": 39,
   "id": "d23e2d84",
   "metadata": {},
   "outputs": [
    {
     "data": {
      "text/plain": [
       "['Deepa', 'Gupta', 19, 'CEDS']"
      ]
     },
     "execution_count": 39,
     "metadata": {},
     "output_type": "execute_result"
    }
   ],
   "source": [
    "[\"Deepa\",\"Gupta\",19,\"CEDS\"]"
   ]
  },
  {
   "cell_type": "code",
   "execution_count": 40,
   "id": "03cfd621",
   "metadata": {},
   "outputs": [
    {
     "data": {
      "text/plain": [
       "list[1, 34, 4, 67, 7]"
      ]
     },
     "execution_count": 40,
     "metadata": {},
     "output_type": "execute_result"
    }
   ],
   "source": [
    "list[1,34,4,67,7]"
   ]
  },
  {
   "cell_type": "code",
   "execution_count": 41,
   "id": "cb57a62e",
   "metadata": {},
   "outputs": [
    {
     "data": {
      "text/plain": [
       "['p', 'w', 's', 'k', 'i', 'l', 'l', 's']"
      ]
     },
     "execution_count": 41,
     "metadata": {},
     "output_type": "execute_result"
    }
   ],
   "source": [
    "list(string) #Will get output character by character    "
   ]
  },
  {
   "cell_type": "code",
   "execution_count": 45,
   "id": "3c04bc6f",
   "metadata": {},
   "outputs": [
    {
     "data": {
      "text/plain": [
       "['Welcome', 'to', 'pwskills.Welcome', 'to', 'Dat', 'cience', 'Master', 'class']"
      ]
     },
     "execution_count": 45,
     "metadata": {},
     "output_type": "execute_result"
    }
   ],
   "source": [
    "list(str1.split(\" \"))  #Whenever a space will find then split the string"
   ]
  },
  {
   "cell_type": "code",
   "execution_count": 24,
   "id": "42a84bdd",
   "metadata": {},
   "outputs": [
    {
     "data": {
      "text/plain": [
       "['Welcome', 'to', 'pwskills.Welcome', 'to', 'Dat', 'cience', 'Master', 'class']"
      ]
     },
     "execution_count": 24,
     "metadata": {},
     "output_type": "execute_result"
    }
   ],
   "source": [
    "#return type of split function inside a string is also a list\n",
    "list1=str1.split(\" \")\n",
    "str1.split(\" \")"
   ]
  },
  {
   "cell_type": "code",
   "execution_count": 53,
   "id": "df5b683d",
   "metadata": {},
   "outputs": [
    {
     "data": {
      "text/plain": [
       "'pwskills.Welcome'"
      ]
     },
     "execution_count": 53,
     "metadata": {},
     "output_type": "execute_result"
    }
   ],
   "source": [
    "list1[2]   #return element of index 2"
   ]
  },
  {
   "cell_type": "code",
   "execution_count": 54,
   "id": "6c4d8a18",
   "metadata": {},
   "outputs": [
    {
     "data": {
      "text/plain": [
       "['pwskills.Welcome', 'to', 'Dat', 'cience', 'Master', 'class']"
      ]
     },
     "execution_count": 54,
     "metadata": {},
     "output_type": "execute_result"
    }
   ],
   "source": [
    "list1[2:]  #from index 2 to last"
   ]
  },
  {
   "cell_type": "code",
   "execution_count": 58,
   "id": "fb333613",
   "metadata": {},
   "outputs": [],
   "source": [
    "list1[3]=\"Pwskill\"   #mutability"
   ]
  },
  {
   "cell_type": "code",
   "execution_count": 21,
   "id": "2739b7c8",
   "metadata": {},
   "outputs": [
    {
     "ename": "NameError",
     "evalue": "name 'list1' is not defined",
     "output_type": "error",
     "traceback": [
      "\u001b[1;31m---------------------------------------------------------------------------\u001b[0m",
      "\u001b[1;31mNameError\u001b[0m                                 Traceback (most recent call last)",
      "Cell \u001b[1;32mIn[21], line 1\u001b[0m\n\u001b[1;32m----> 1\u001b[0m \u001b[43mlist1\u001b[49m   \u001b[38;5;66;03m#List got updated or changed\u001b[39;00m\n",
      "\u001b[1;31mNameError\u001b[0m: name 'list1' is not defined"
     ]
    }
   ],
   "source": [
    "list1   #List got updated or changed"
   ]
  },
  {
   "cell_type": "code",
   "execution_count": 62,
   "id": "3548ec3e",
   "metadata": {},
   "outputs": [
    {
     "data": {
      "text/plain": [
       "'cience'"
      ]
     },
     "execution_count": 62,
     "metadata": {},
     "output_type": "execute_result"
    }
   ],
   "source": [
    "list1[-3]  #from backward 3rd item"
   ]
  },
  {
   "cell_type": "code",
   "execution_count": 64,
   "id": "ab107dbc",
   "metadata": {},
   "outputs": [
    {
     "data": {
      "text/plain": [
       "['class', 'cience', 'Pwskill', 'to']"
      ]
     },
     "execution_count": 64,
     "metadata": {},
     "output_type": "execute_result"
    }
   ],
   "source": [
    "list1[::-2] #Every second element from backward"
   ]
  },
  {
   "cell_type": "code",
   "execution_count": 28,
   "id": "2b4def43",
   "metadata": {},
   "outputs": [
    {
     "data": {
      "text/plain": [
       "['Welcome', 'to', 'pwskills.Welcome', 'to', 'Dat', 'cience', 'Master', 'class']"
      ]
     },
     "execution_count": 28,
     "metadata": {},
     "output_type": "execute_result"
    }
   ],
   "source": [
    "list1"
   ]
  },
  {
   "cell_type": "code",
   "execution_count": 36,
   "id": "8ef5b5d2",
   "metadata": {},
   "outputs": [
    {
     "data": {
      "text/plain": [
       "['class', 'Master', 'cience', 'Dat', 'to']"
      ]
     },
     "execution_count": 36,
     "metadata": {},
     "output_type": "execute_result"
    }
   ],
   "source": [
    "list1[-1:2:-1]  "
   ]
  },
  {
   "cell_type": "code",
   "execution_count": 30,
   "id": "d9987409",
   "metadata": {},
   "outputs": [
    {
     "data": {
      "text/plain": [
       "list[slice(-5, None, -2)]"
      ]
     },
     "execution_count": 30,
     "metadata": {},
     "output_type": "execute_result"
    }
   ],
   "source": [
    "list[-5::-2]"
   ]
  },
  {
   "cell_type": "code",
   "execution_count": null,
   "id": "8309ffba",
   "metadata": {},
   "outputs": [],
   "source": [
    "list1[::-2]"
   ]
  },
  {
   "cell_type": "code",
   "execution_count": 70,
   "id": "59a8b690",
   "metadata": {},
   "outputs": [
    {
     "data": {
      "text/plain": [
       "['Welcome',\n",
       " 'to',\n",
       " 'pwskills.Welcome',\n",
       " 'Pwskill',\n",
       " 'Dat',\n",
       " 'cience',\n",
       " 'Master',\n",
       " 'class',\n",
       " 'Deepa',\n",
       " 'Gupta']"
      ]
     },
     "execution_count": 70,
     "metadata": {},
     "output_type": "execute_result"
    }
   ],
   "source": [
    "#Cancatination operation\n",
    "list1+[\"Deepa\",\"Gupta\"]"
   ]
  },
  {
   "cell_type": "code",
   "execution_count": 72,
   "id": "24e9c816",
   "metadata": {},
   "outputs": [],
   "source": [
    "list2=list1+[[\"Deepa\",\"Gupta\"]]  #cancate a multinested list\n",
    "list1+[[\"Deepa\",\"Gupta\"]] "
   ]
  },
  {
   "cell_type": "code",
   "execution_count": 73,
   "id": "25bf9309",
   "metadata": {},
   "outputs": [
    {
     "data": {
      "text/plain": [
       "['Deepa', 'Gupta']"
      ]
     },
     "execution_count": 73,
     "metadata": {},
     "output_type": "execute_result"
    }
   ],
   "source": [
    "#how to get the nested list only\n",
    "list2[-1]"
   ]
  },
  {
   "cell_type": "code",
   "execution_count": 76,
   "id": "7f5cdc58",
   "metadata": {},
   "outputs": [
    {
     "data": {
      "text/plain": [
       "'Deepa'"
      ]
     },
     "execution_count": 76,
     "metadata": {},
     "output_type": "execute_result"
    }
   ],
   "source": [
    "#get the first item of nested list\n",
    "list2[-1][0]"
   ]
  },
  {
   "cell_type": "code",
   "execution_count": 77,
   "id": "b422fdba",
   "metadata": {},
   "outputs": [
    {
     "data": {
      "text/plain": [
       "['Welcome',\n",
       " 'to',\n",
       " 'pwskills.Welcome',\n",
       " 'Pwskill',\n",
       " 'Dat',\n",
       " 'cience',\n",
       " 'Master',\n",
       " 'class',\n",
       " 'Welcome',\n",
       " 'to',\n",
       " 'pwskills.Welcome',\n",
       " 'Pwskill',\n",
       " 'Dat',\n",
       " 'cience',\n",
       " 'Master',\n",
       " 'class']"
      ]
     },
     "execution_count": 77,
     "metadata": {},
     "output_type": "execute_result"
    }
   ],
   "source": [
    "#repeat the list \n",
    "list1*2  "
   ]
  },
  {
   "cell_type": "code",
   "execution_count": 79,
   "id": "c7fa5220",
   "metadata": {},
   "outputs": [
    {
     "data": {
      "text/plain": [
       "['Welcome',\n",
       " 'to',\n",
       " 'pwskills.Welcome',\n",
       " 'Pwskill',\n",
       " 'Dat',\n",
       " 'cience',\n",
       " 'Master',\n",
       " 'class']"
      ]
     },
     "execution_count": 79,
     "metadata": {},
     "output_type": "execute_result"
    }
   ],
   "source": [
    "list1  #repetition is not a inplace process(not change the actual list)\n",
    "#if inplace is true it means we updating the list as well"
   ]
  },
  {
   "cell_type": "code",
   "execution_count": 94,
   "id": "021cbfe1",
   "metadata": {},
   "outputs": [
    {
     "name": "stdout",
     "output_type": "stream",
     "text": [
      "Item not found\n",
      "Item not found\n",
      "Item not found\n",
      " Item found\n"
     ]
    }
   ],
   "source": [
    "#check wheather a word is present in it or not and then exit out the if find\n",
    "for i in list1:\n",
    "    if i==\"Pwskill\":\n",
    "        print(\" Item found\")\n",
    "        break\n",
    "    else:\n",
    "        print(\"Item not found\")"
   ]
  },
  {
   "cell_type": "code",
   "execution_count": 95,
   "id": "bc7a512c",
   "metadata": {},
   "outputs": [
    {
     "data": {
      "text/plain": [
       "True"
      ]
     },
     "execution_count": 95,
     "metadata": {},
     "output_type": "execute_result"
    }
   ],
   "source": [
    "lst=[1,2,3,4]\n",
    "4 in lst   #check whether present or not"
   ]
  },
  {
   "cell_type": "code",
   "execution_count": 9,
   "id": "2641e03f",
   "metadata": {},
   "outputs": [],
   "source": [
    "list=[\"zebra\",\"monkey\",\"donkey\",\"lion\"]\n",
    "list2=[1,4,6,3,7,3,6,2]"
   ]
  },
  {
   "cell_type": "code",
   "execution_count": 97,
   "id": "80b54a8e",
   "metadata": {},
   "outputs": [
    {
     "name": "stdout",
     "output_type": "stream",
     "text": [
      "zebra\n"
     ]
    }
   ],
   "source": [
    "#print the maximum\n",
    "print(max(list))  #check alphabetically then this alphabet get converted into ascii value"
   ]
  },
  {
   "cell_type": "code",
   "execution_count": 98,
   "id": "e3733330",
   "metadata": {},
   "outputs": [
    {
     "name": "stdout",
     "output_type": "stream",
     "text": [
      "7\n"
     ]
    }
   ],
   "source": [
    "print(max(list2))"
   ]
  },
  {
   "cell_type": "code",
   "execution_count": null,
   "id": "affdae0a",
   "metadata": {},
   "outputs": [],
   "source": [
    "#print the minimun"
   ]
  },
  {
   "cell_type": "code",
   "execution_count": 100,
   "id": "62863e48",
   "metadata": {},
   "outputs": [
    {
     "name": "stdout",
     "output_type": "stream",
     "text": [
      "donkey\n"
     ]
    }
   ],
   "source": [
    "print(min(list))   #check alphabetically then this alphabet get converted into ascii value"
   ]
  },
  {
   "cell_type": "code",
   "execution_count": 99,
   "id": "b2660f36",
   "metadata": {},
   "outputs": [
    {
     "name": "stdout",
     "output_type": "stream",
     "text": [
      "1\n"
     ]
    }
   ],
   "source": [
    "print(min(list2))"
   ]
  },
  {
   "cell_type": "code",
   "execution_count": 10,
   "id": "7ef6e260",
   "metadata": {},
   "outputs": [],
   "source": [
    "list.append(\"DeepaGupta\")"
   ]
  },
  {
   "cell_type": "code",
   "execution_count": 11,
   "id": "e5a078ee",
   "metadata": {},
   "outputs": [
    {
     "data": {
      "text/plain": [
       "['zebra', 'monkey', 'donkey', 'lion', 'DeepaGupta']"
      ]
     },
     "execution_count": 11,
     "metadata": {},
     "output_type": "execute_result"
    }
   ],
   "source": [
    "list"
   ]
  },
  {
   "cell_type": "code",
   "execution_count": 12,
   "id": "2525e5ca",
   "metadata": {},
   "outputs": [
    {
     "data": {
      "text/plain": [
       "['zebra', 'monkey', 'donkey', 'lion', 'DeepaGupta']"
      ]
     },
     "execution_count": 12,
     "metadata": {},
     "output_type": "execute_result"
    }
   ],
   "source": [
    "list  #it is a inplace operation (list got updated)"
   ]
  },
  {
   "cell_type": "code",
   "execution_count": 13,
   "id": "1351266d",
   "metadata": {},
   "outputs": [],
   "source": [
    "list.append([1,2,3,4])"
   ]
  },
  {
   "cell_type": "code",
   "execution_count": 14,
   "id": "7db65ad4",
   "metadata": {},
   "outputs": [
    {
     "data": {
      "text/plain": [
       "['zebra', 'monkey', 'donkey', 'lion', 'DeepaGupta', [1, 2, 3, 4]]"
      ]
     },
     "execution_count": 14,
     "metadata": {},
     "output_type": "execute_result"
    }
   ],
   "source": [
    "list  #provide the nested list"
   ]
  },
  {
   "cell_type": "code",
   "execution_count": 15,
   "id": "e040a102",
   "metadata": {},
   "outputs": [
    {
     "data": {
      "text/plain": [
       "[1, 2, 3, 4]"
      ]
     },
     "execution_count": 15,
     "metadata": {},
     "output_type": "execute_result"
    }
   ],
   "source": [
    "list.pop()  #remove the last element"
   ]
  },
  {
   "cell_type": "code",
   "execution_count": 107,
   "id": "6beb7568",
   "metadata": {},
   "outputs": [
    {
     "data": {
      "text/plain": [
       "['zebra', 'monkey', 'donkey', 'lion', 'DeepaGupta']"
      ]
     },
     "execution_count": 107,
     "metadata": {},
     "output_type": "execute_result"
    }
   ],
   "source": [
    "list  #So it is a inplace operation the list will remove it for permanent"
   ]
  },
  {
   "cell_type": "code",
   "execution_count": 108,
   "id": "9e73dfb8",
   "metadata": {},
   "outputs": [
    {
     "data": {
      "text/plain": [
       "'donkey'"
      ]
     },
     "execution_count": 108,
     "metadata": {},
     "output_type": "execute_result"
    }
   ],
   "source": [
    "list.pop(2) #donkey wil remove"
   ]
  },
  {
   "cell_type": "code",
   "execution_count": 109,
   "id": "4f627985",
   "metadata": {},
   "outputs": [
    {
     "data": {
      "text/plain": [
       "['zebra', 'monkey', 'lion', 'DeepaGupta']"
      ]
     },
     "execution_count": 109,
     "metadata": {},
     "output_type": "execute_result"
    }
   ],
   "source": [
    "list"
   ]
  },
  {
   "cell_type": "code",
   "execution_count": 20,
   "id": "8ef01ecf",
   "metadata": {},
   "outputs": [
    {
     "data": {
      "text/plain": [
       "['zebra', 'monkey', 'donkey', 'lion', 'DeepaGupta', 23, 23, 25, 25]"
      ]
     },
     "execution_count": 20,
     "metadata": {},
     "output_type": "execute_result"
    }
   ],
   "source": [
    "list.insert(len(list)+1,25)\n",
    "list\n",
    "#note:if we run insert function 3 times then it extend then list by adding elements 3 times"
   ]
  },
  {
   "cell_type": "code",
   "execution_count": 137,
   "id": "f8e43045",
   "metadata": {},
   "outputs": [],
   "source": [
    "#sorting and reverse method in list\n",
    "new_list=['a','e','i','u','t','o']"
   ]
  },
  {
   "cell_type": "code",
   "execution_count": 138,
   "id": "ccc740a4",
   "metadata": {},
   "outputs": [
    {
     "data": {
      "text/plain": [
       "['o', 't', 'u', 'i', 'e', 'a']"
      ]
     },
     "execution_count": 138,
     "metadata": {},
     "output_type": "execute_result"
    }
   ],
   "source": [
    "#reverse the list\n",
    "new_list[::-1]    #This is not inplace"
   ]
  },
  {
   "cell_type": "code",
   "execution_count": 142,
   "id": "86b9e43a",
   "metadata": {},
   "outputs": [
    {
     "data": {
      "text/plain": [
       "['a', 'e', 'i', 'u', 't', 'o']"
      ]
     },
     "execution_count": 142,
     "metadata": {},
     "output_type": "execute_result"
    }
   ],
   "source": [
    "new_list"
   ]
  },
  {
   "cell_type": "code",
   "execution_count": 144,
   "id": "e5e344fb",
   "metadata": {},
   "outputs": [],
   "source": [
    "new_list.reverse()"
   ]
  },
  {
   "cell_type": "code",
   "execution_count": 145,
   "id": "94d3e599",
   "metadata": {},
   "outputs": [
    {
     "data": {
      "text/plain": [
       "['a', 'e', 'i', 'u', 't', 'o']"
      ]
     },
     "execution_count": 145,
     "metadata": {},
     "output_type": "execute_result"
    }
   ],
   "source": [
    "new_list   #This is a inplace operation"
   ]
  },
  {
   "cell_type": "code",
   "execution_count": 146,
   "id": "b52eaa6d",
   "metadata": {},
   "outputs": [],
   "source": [
    "new_list.sort()   #By default ascending order"
   ]
  },
  {
   "cell_type": "code",
   "execution_count": 147,
   "id": "71bb18a9",
   "metadata": {},
   "outputs": [
    {
     "data": {
      "text/plain": [
       "['a', 'e', 'i', 'o', 't', 'u']"
      ]
     },
     "execution_count": 147,
     "metadata": {},
     "output_type": "execute_result"
    }
   ],
   "source": [
    "new_list    #It is a inplace operation"
   ]
  },
  {
   "cell_type": "markdown",
   "id": "3d1440a3",
   "metadata": {},
   "source": [
    " Nested list"
   ]
  },
  {
   "cell_type": "code",
   "execution_count": 148,
   "id": "ea462389",
   "metadata": {},
   "outputs": [],
   "source": [
    "#In append function we inly add on element at a time\n",
    "#but by using extend function we can add multiple element at a time\n",
    "new_list.extend([\"Deepa\",\"Gupta\",\"Aman\",\"Shiv\"])\n",
    "#note:if we run extend function 3 times then it extend then list by adding elements 3 times"
   ]
  },
  {
   "cell_type": "code",
   "execution_count": 149,
   "id": "1fd47640",
   "metadata": {},
   "outputs": [
    {
     "data": {
      "text/plain": [
       "['a', 'e', 'i', 'o', 't', 'u', 'Deepa', 'Gupta', 'Aman', 'Shiv']"
      ]
     },
     "execution_count": 149,
     "metadata": {},
     "output_type": "execute_result"
    }
   ],
   "source": [
    "new_list"
   ]
  },
  {
   "cell_type": "code",
   "execution_count": 150,
   "id": "1ee9e986",
   "metadata": {},
   "outputs": [],
   "source": [
    "#Make a list of list to form a matrix\n",
    "list1=[1,2,3]\n",
    "list2=[4,5,6]\n",
    "list3=[7,8,9]"
   ]
  },
  {
   "cell_type": "code",
   "execution_count": 152,
   "id": "3118e404",
   "metadata": {},
   "outputs": [],
   "source": [
    "matrix=[list1,list2,list3]"
   ]
  },
  {
   "cell_type": "code",
   "execution_count": 153,
   "id": "35f8a2aa",
   "metadata": {},
   "outputs": [
    {
     "data": {
      "text/plain": [
       "[[1, 2, 3], [4, 5, 6], [7, 8, 9]]"
      ]
     },
     "execution_count": 153,
     "metadata": {},
     "output_type": "execute_result"
    }
   ],
   "source": [
    "matrix"
   ]
  },
  {
   "cell_type": "code",
   "execution_count": 155,
   "id": "64f25c3a",
   "metadata": {},
   "outputs": [
    {
     "data": {
      "text/plain": [
       "6"
      ]
     },
     "execution_count": 155,
     "metadata": {},
     "output_type": "execute_result"
    }
   ],
   "source": [
    "#how to pick value:6\n",
    "matrix[1][2]"
   ]
  },
  {
   "cell_type": "code",
   "execution_count": 156,
   "id": "7a9bea27",
   "metadata": {},
   "outputs": [
    {
     "data": {
      "text/plain": [
       "[8, 9]"
      ]
     },
     "execution_count": 156,
     "metadata": {},
     "output_type": "execute_result"
    }
   ],
   "source": [
    "#How to get value(8,9)\n",
    "matrix[2][1:]"
   ]
  },
  {
   "cell_type": "code",
   "execution_count": 161,
   "id": "e839406c",
   "metadata": {},
   "outputs": [
    {
     "data": {
      "text/plain": [
       "[4, 5, 6]"
      ]
     },
     "execution_count": 161,
     "metadata": {},
     "output_type": "execute_result"
    }
   ],
   "source": [
    "#How to get 1,4,7\n",
    "#This will come in array by using numpy\n",
    "matrix[0:][1] #wrong"
   ]
  },
  {
   "cell_type": "code",
   "execution_count": 164,
   "id": "0b3e3af8",
   "metadata": {},
   "outputs": [
    {
     "data": {
      "text/plain": [
       "[0, 1, 2, 3, 4, 5, 6, 7, 8, 9, 10, 11, 12, 13, 14, 15, 16, 17, 18, 19]"
      ]
     },
     "execution_count": 164,
     "metadata": {},
     "output_type": "execute_result"
    }
   ],
   "source": [
    "#List comprehension\n",
    "#Can we apply a for loop inside a list\n",
    "[i for i in range(20)]"
   ]
  },
  {
   "cell_type": "code",
   "execution_count": 165,
   "id": "7d1258da",
   "metadata": {},
   "outputs": [
    {
     "data": {
      "text/plain": [
       "[0,\n",
       " 'ODD',\n",
       " 2,\n",
       " 'ODD',\n",
       " 4,\n",
       " 'ODD',\n",
       " 6,\n",
       " 'ODD',\n",
       " 8,\n",
       " 'ODD',\n",
       " 10,\n",
       " 'ODD',\n",
       " 12,\n",
       " 'ODD',\n",
       " 14,\n",
       " 'ODD',\n",
       " 16,\n",
       " 'ODD',\n",
       " 18,\n",
       " 'ODD']"
      ]
     },
     "execution_count": 165,
     "metadata": {},
     "output_type": "execute_result"
    }
   ],
   "source": [
    "#how to get even no\n",
    "[i if i%2==0 else \"ODD\" for i in range(20)]   #this is list comprehension"
   ]
  },
  {
   "cell_type": "code",
   "execution_count": null,
   "id": "3fc34611",
   "metadata": {},
   "outputs": [],
   "source": [
    "#we can add a for loop in list comprehension\n",
    "#and a condition as well "
   ]
  },
  {
   "cell_type": "code",
   "execution_count": null,
   "id": "a8daebbc",
   "metadata": {},
   "outputs": [],
   "source": [
    "#Iterate through a list=[1,2,3,4,5,6,7,8]\n",
    "#and print submission of even variable or submission of odd variable to 2 reference variable"
   ]
  },
  {
   "cell_type": "code",
   "execution_count": 2,
   "id": "389c34d4",
   "metadata": {},
   "outputs": [
    {
     "name": "stdout",
     "output_type": "stream",
     "text": [
      "20\n",
      "16\n"
     ]
    }
   ],
   "source": [
    "list=[1,2,3,4,5,6,7,8]\n",
    "even_sum=0\n",
    "odd_sum=0\n",
    "for i in list:\n",
    "    if i%2==0:\n",
    "        even_sum+=i\n",
    "    else:\n",
    "        odd_sum+=i\n",
    "print(even_sum)\n",
    "print(odd_sum)"
   ]
  },
  {
   "cell_type": "code",
   "execution_count": 181,
   "id": "c20a717f",
   "metadata": {},
   "outputs": [
    {
     "data": {
      "text/plain": [
       "20"
      ]
     },
     "execution_count": 181,
     "metadata": {},
     "output_type": "execute_result"
    }
   ],
   "source": [
    "#using a list cpmprehension\n",
    "even_sum=sum([num for num in list if num%2==0])\n",
    "#If we write the if condition before for loop then a else condition is also required\n",
    "even_sum"
   ]
  },
  {
   "cell_type": "code",
   "execution_count": 4,
   "id": "3b674606",
   "metadata": {},
   "outputs": [
    {
     "data": {
      "text/plain": [
       "16"
      ]
     },
     "execution_count": 4,
     "metadata": {},
     "output_type": "execute_result"
    }
   ],
   "source": [
    "odd_sum=sum([num for num in list if num%2!=0])  \n",
    "#Write the for loop before if condition so that we dont have to specify the else condition\n",
    "odd_sum"
   ]
  },
  {
   "cell_type": "code",
   "execution_count": 184,
   "id": "718bf03a",
   "metadata": {},
   "outputs": [
    {
     "data": {
      "text/plain": [
       "[1, 4, 9, 16, 25, 36, 49, 64, 81, 100]"
      ]
     },
     "execution_count": 184,
     "metadata": {},
     "output_type": "execute_result"
    }
   ],
   "source": [
    "#Exercise\n",
    "#lst=[1,2,3,4,5,6,7,8,9,10]\n",
    "#print the square of all number in the form of list comprehension\n",
    "lst=[1,2,3,4,5,6,7,8,9,10]\n",
    "[num**2 for num in lst]   #2 stars is for power"
   ]
  },
  {
   "cell_type": "code",
   "execution_count": 13,
   "id": "f604f9ec",
   "metadata": {},
   "outputs": [
    {
     "name": "stdout",
     "output_type": "stream",
     "text": [
      "0\n",
      "1\n",
      "2\n",
      "3\n",
      "4\n"
     ]
    }
   ],
   "source": [
    "#Create a list of only the positive numbers from a given list \n",
    "number=[-2,-1,0,1,2,3,4]\n",
    "for i in number:\n",
    "    if i>=0:             #wrong\n",
    "        print(i)"
   ]
  },
  {
   "cell_type": "code",
   "execution_count": 14,
   "id": "adfa0139",
   "metadata": {},
   "outputs": [
    {
     "data": {
      "text/plain": [
       "[0, 1, 2, 3, 4]"
      ]
     },
     "execution_count": 14,
     "metadata": {},
     "output_type": "execute_result"
    }
   ],
   "source": [
    "[num for num in number if num>=0]  #correct"
   ]
  },
  {
   "cell_type": "code",
   "execution_count": 16,
   "id": "e20a3c0e",
   "metadata": {},
   "outputs": [
    {
     "data": {
      "text/plain": [
       "['a', 'b', 'c', 'd']"
      ]
     },
     "execution_count": 16,
     "metadata": {},
     "output_type": "execute_result"
    }
   ],
   "source": [
    "#Create a list of only first letter of words in a list\n",
    "words=[\"apple\",\"banana\",\"cherry\",\"date\"]\n",
    "#[num for num in words for i in ]  #wrong \n",
    "[word[0] for word in words]   #right"
   ]
  },
  {
   "cell_type": "code",
   "execution_count": null,
   "id": "6c6e1cf7",
   "metadata": {},
   "outputs": [],
   "source": [
    "#convert a temperature celsius into fahrenhite and vice versa\n",
    "#(9/5)*temp-32"
   ]
  },
  {
   "cell_type": "code",
   "execution_count": 18,
   "id": "c5066e3c",
   "metadata": {},
   "outputs": [
    {
     "data": {
      "text/plain": [
       "[32.0, 50.0, 68.0, 86.0, 104.0, 122.0]"
      ]
     },
     "execution_count": 18,
     "metadata": {},
     "output_type": "execute_result"
    }
   ],
   "source": [
    "#convert a list of temperature from celsius to fahrenhite using list comprehension\n",
    "celsius_tem=[0,10,20,30,40,50]\n",
    "[(9/5)*temp+32 for temp in celsius_tem]"
   ]
  },
  {
   "cell_type": "code",
   "execution_count": null,
   "id": "cf4848b0",
   "metadata": {},
   "outputs": [],
   "source": [
    "#Flatten a list of list into a single list using list comprehension"
   ]
  },
  {
   "cell_type": "code",
   "execution_count": 4,
   "id": "590df029",
   "metadata": {},
   "outputs": [
    {
     "data": {
      "text/plain": [
       "[1, 2, 3, 4, 5, 6, 7, 8, 9]"
      ]
     },
     "execution_count": 4,
     "metadata": {},
     "output_type": "execute_result"
    }
   ],
   "source": [
    "lists=[[1,2,3],[4,5,6],[7,8,9]]\n",
    "#[num for num in lists for i in num]   wrong\n",
    "[num for sublist in lists for num in sublist]   #right"
   ]
  },
  {
   "cell_type": "code",
   "execution_count": 43,
   "id": "28c0adb9",
   "metadata": {},
   "outputs": [],
   "source": [
    "#Assignments to do\n",
    "#using both code and list comprehension\n",
    "#create a list of only the prime numbers from the list\n",
    "numbers=[0,1,2,3,4,5,6,7,8,9,10]"
   ]
  },
  {
   "cell_type": "code",
   "execution_count": 53,
   "id": "f92f1a9d",
   "metadata": {},
   "outputs": [
    {
     "data": {
      "text/plain": [
       "[2, 3, 5, 7]"
      ]
     },
     "execution_count": 53,
     "metadata": {},
     "output_type": "execute_result"
    }
   ],
   "source": [
    "prime_list=[]\n",
    "for i in numbers:\n",
    "    if i==0 or i==1:\n",
    "        continue\n",
    "    for j in range(2,i//2+1):\n",
    "        if i%j==0:\n",
    "            break\n",
    "    else:\n",
    "        prime_list.append(i)\n",
    "prime_list"
   ]
  },
  {
   "cell_type": "code",
   "execution_count": 73,
   "id": "bb8d9d6f",
   "metadata": {},
   "outputs": [
    {
     "data": {
      "text/plain": [
       "[2, 3, 5, 7]"
      ]
     },
     "execution_count": 73,
     "metadata": {},
     "output_type": "execute_result"
    }
   ],
   "source": [
    "[num for num in numbers if num!=0 and num!=1 if all(num%i!=0 for i in range(2,num))]"
   ]
  },
  {
   "cell_type": "code",
   "execution_count": null,
   "id": "89a74e65",
   "metadata": {},
   "outputs": [],
   "source": [
    "#Create a list of all the possible combination of 2 elements from a list\n",
    "numbers=[1,2,3,4,5]"
   ]
  },
  {
   "cell_type": "code",
   "execution_count": 74,
   "id": "1baa9286",
   "metadata": {},
   "outputs": [
    {
     "name": "stdout",
     "output_type": "stream",
     "text": [
      "[(), (1,), (2,), (3,), (4,), (5,), (1, 2), (1, 3), (1, 4), (1, 5), (2, 3), (2, 4), (2, 5), (3, 4), (3, 5), (4, 5), (1, 2, 3), (1, 2, 4), (1, 2, 5), (1, 3, 4), (1, 3, 5), (1, 4, 5), (2, 3, 4), (2, 3, 5), (2, 4, 5), (3, 4, 5), (1, 2, 3, 4), (1, 2, 3, 5), (1, 2, 4, 5), (1, 3, 4, 5), (2, 3, 4, 5), (1, 2, 3, 4, 5)]\n"
     ]
    }
   ],
   "source": [
    "import itertools\n",
    "\n",
    "numbers=[1,2,3,4,5]\n",
    "\n",
    "combinations = []\n",
    "\n",
    "for r in range(len(numbers)+1):\n",
    "    for combination in itertools.combinations(set(numbers), r):\n",
    "        combinations.append(combination)\n",
    "\n",
    "print(combinations)"
   ]
  },
  {
   "cell_type": "code",
   "execution_count": 3,
   "id": "3973d340",
   "metadata": {},
   "outputs": [],
   "source": [
    "from itertools import combinations\n",
    "\n",
    "numbers=[1,2,3,4,5]\n",
    "\n",
    "output = sum([list(map(list, combinations(numbers, i))) for i in range(len(numbers) + 1)], [])"
   ]
  },
  {
   "cell_type": "code",
   "execution_count": null,
   "id": "b19205d9",
   "metadata": {},
   "outputs": [],
   "source": []
  }
 ],
 "metadata": {
  "kernelspec": {
   "display_name": "Python 3 (ipykernel)",
   "language": "python",
   "name": "python3"
  },
  "language_info": {
   "codemirror_mode": {
    "name": "ipython",
    "version": 3
   },
   "file_extension": ".py",
   "mimetype": "text/x-python",
   "name": "python",
   "nbconvert_exporter": "python",
   "pygments_lexer": "ipython3",
   "version": "3.11.0"
  }
 },
 "nbformat": 4,
 "nbformat_minor": 5
}

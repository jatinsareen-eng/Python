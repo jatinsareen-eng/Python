{
 "cells": [
  {
   "cell_type": "code",
   "execution_count": null,
   "id": "feb40d22",
   "metadata": {},
   "outputs": [],
   "source": [
    "#Create a function that take 2 input and make it a power of other"
   ]
  },
  {
   "cell_type": "code",
   "execution_count": null,
   "id": "2471b08b",
   "metadata": {},
   "outputs": [],
   "source": [
    "n=2\n",
    "p=3"
   ]
  },
  {
   "cell_type": "code",
   "execution_count": 1,
   "id": "c8e7237c",
   "metadata": {},
   "outputs": [],
   "source": [
    "def power(n,p):\n",
    "    return n**p"
   ]
  },
  {
   "cell_type": "code",
   "execution_count": 2,
   "id": "af3b5f06",
   "metadata": {},
   "outputs": [
    {
     "data": {
      "text/plain": [
       "8"
      ]
     },
     "execution_count": 2,
     "metadata": {},
     "output_type": "execute_result"
    }
   ],
   "source": [
    "power(2,3)   #we can also write this function in other way as well "
   ]
  },
  {
   "cell_type": "markdown",
   "id": "de69e80b",
   "metadata": {},
   "source": [
    "<H5>#Lambda Function (short hand function)\n",
    "    \n",
    "<h5>A lambda function is an anonymous function in Python, meaning that it is a small, one-line function that doesn't have a name. They are used to create small, throw-away functions that are used   for a limited time."
   ]
  },
  {
   "cell_type": "code",
   "execution_count": 6,
   "id": "d56a0cfb",
   "metadata": {},
   "outputs": [
    {
     "data": {
      "text/plain": [
       "<function __main__.<lambda>(n, p)>"
      ]
     },
     "execution_count": 6,
     "metadata": {},
     "output_type": "execute_result"
    }
   ],
   "source": [
    "a=lambda n,p:n**p   #Lambda is a ananamous function(a function without a name)"
   ]
  },
  {
   "cell_type": "code",
   "execution_count": 5,
   "id": "411c17a0",
   "metadata": {},
   "outputs": [
    {
     "data": {
      "text/plain": [
       "8"
      ]
     },
     "execution_count": 5,
     "metadata": {},
     "output_type": "execute_result"
    }
   ],
   "source": [
    "a(2,3)"
   ]
  },
  {
   "cell_type": "code",
   "execution_count": 7,
   "id": "1b269c5f",
   "metadata": {},
   "outputs": [
    {
     "data": {
      "text/plain": [
       "390625"
      ]
     },
     "execution_count": 7,
     "metadata": {},
     "output_type": "execute_result"
    }
   ],
   "source": [
    "a(5,8)"
   ]
  },
  {
   "cell_type": "code",
   "execution_count": 8,
   "id": "ac4113e3",
   "metadata": {},
   "outputs": [
    {
     "data": {
      "text/plain": [
       "7"
      ]
     },
     "execution_count": 8,
     "metadata": {},
     "output_type": "execute_result"
    }
   ],
   "source": [
    "#Add using lambda function\n",
    "add=lambda a,b:a+b\n",
    "add(3,4)"
   ]
  },
  {
   "cell_type": "code",
   "execution_count": 11,
   "id": "7be912cc",
   "metadata": {},
   "outputs": [
    {
     "data": {
      "text/plain": [
       "32.0"
      ]
     },
     "execution_count": 11,
     "metadata": {},
     "output_type": "execute_result"
    }
   ],
   "source": [
    "#degree to fahrenheit conversion\n",
    "c_to_f=lambda c:(9/5)*c+32\n",
    "c_to_f(0)"
   ]
  },
  {
   "cell_type": "code",
   "execution_count": 12,
   "id": "d500ac0d",
   "metadata": {},
   "outputs": [
    {
     "data": {
      "text/plain": [
       "93.2"
      ]
     },
     "execution_count": 12,
     "metadata": {},
     "output_type": "execute_result"
    }
   ],
   "source": [
    "c_to_f(34)"
   ]
  },
  {
   "cell_type": "code",
   "execution_count": 15,
   "id": "fdfa8034",
   "metadata": {},
   "outputs": [],
   "source": [
    "#lambda function to find maximum of two number\n",
    "max=lambda x,y:x if x>y else y"
   ]
  },
  {
   "cell_type": "code",
   "execution_count": 16,
   "id": "1d155f50",
   "metadata": {},
   "outputs": [
    {
     "data": {
      "text/plain": [
       "67"
      ]
     },
     "execution_count": 16,
     "metadata": {},
     "output_type": "execute_result"
    }
   ],
   "source": [
    "max(45,67)"
   ]
  },
  {
   "cell_type": "markdown",
   "id": "f528409b",
   "metadata": {},
   "source": [
    "<H3>Map,reduce and filter function\n",
    "    \n",
    "<h5>The map function in Python takes a function and an iterable as arguments and returns a new iterable with the function applied to each element. The result is a list of the results, which can be used for further processing.\n",
    "    \n",
    "<h5>The reduce function in Python takes a function and an iterable as arguments and applies the function cumulatively to the elements of the iterable. The result is a single value, which is the final result of the reduction.\n",
    "    \n",
    "<h5>The filter function in Python takes a function and an iterable as arguments and returns a new iterable with only the elements that satisfy the condition specified by the function. The result is a filtered list of elements that satisfy the condition.  "
   ]
  },
  {
   "cell_type": "code",
   "execution_count": 19,
   "id": "d62c6bf2",
   "metadata": {},
   "outputs": [],
   "source": [
    "l=[1,2,3,4,5,6,7]"
   ]
  },
  {
   "cell_type": "code",
   "execution_count": null,
   "id": "d954f6a0",
   "metadata": {},
   "outputs": [],
   "source": [
    "#Write a function that returns the square of every element of the list"
   ]
  },
  {
   "cell_type": "code",
   "execution_count": 22,
   "id": "25eed606",
   "metadata": {},
   "outputs": [],
   "source": [
    "def square(l):\n",
    "    l1=[]\n",
    "    for i in l:\n",
    "        i=i**2\n",
    "        l1.append(i)\n",
    "    return l1"
   ]
  },
  {
   "cell_type": "code",
   "execution_count": 23,
   "id": "a27c99dd",
   "metadata": {},
   "outputs": [
    {
     "data": {
      "text/plain": [
       "[1, 4, 9, 16, 25, 36, 49]"
      ]
     },
     "execution_count": 23,
     "metadata": {},
     "output_type": "execute_result"
    }
   ],
   "source": [
    "square(l)"
   ]
  },
  {
   "cell_type": "code",
   "execution_count": null,
   "id": "d911c88e",
   "metadata": {},
   "outputs": [],
   "source": [
    "#Map function do the mapping between the object of the iterables and function"
   ]
  },
  {
   "cell_type": "code",
   "execution_count": 24,
   "id": "23ef3d8a",
   "metadata": {},
   "outputs": [],
   "source": [
    "def sq(x):\n",
    "    return x**2"
   ]
  },
  {
   "cell_type": "code",
   "execution_count": 25,
   "id": "199c44f9",
   "metadata": {},
   "outputs": [
    {
     "data": {
      "text/plain": [
       "<map at 0x28e6762ab90>"
      ]
     },
     "execution_count": 25,
     "metadata": {},
     "output_type": "execute_result"
    }
   ],
   "source": [
    "map(sq,l)   #it is a map object "
   ]
  },
  {
   "cell_type": "code",
   "execution_count": 26,
   "id": "3e520a67",
   "metadata": {},
   "outputs": [
    {
     "data": {
      "text/plain": [
       "[1, 4, 9, 16, 25, 36, 49]"
      ]
     },
     "execution_count": 26,
     "metadata": {},
     "output_type": "execute_result"
    }
   ],
   "source": [
    "list(map(sq,l))  #it gives the output "
   ]
  },
  {
   "cell_type": "code",
   "execution_count": 29,
   "id": "ff20b90c",
   "metadata": {},
   "outputs": [
    {
     "data": {
      "text/plain": [
       "[1, 4, 9, 16, 25, 36, 49]"
      ]
     },
     "execution_count": 29,
     "metadata": {},
     "output_type": "execute_result"
    }
   ],
   "source": [
    "#Map function having a lambda function\n",
    "list(map(lambda x:x**2,l))"
   ]
  },
  {
   "cell_type": "code",
   "execution_count": 31,
   "id": "7d923f1a",
   "metadata": {},
   "outputs": [],
   "source": [
    "#Add two list together\n",
    "l1=[1,2,3,4,5]\n",
    "l2=[6,7,8,9,10]"
   ]
  },
  {
   "cell_type": "code",
   "execution_count": 32,
   "id": "9a98d182",
   "metadata": {},
   "outputs": [
    {
     "data": {
      "text/plain": [
       "[7, 9, 11, 13, 15]"
      ]
     },
     "execution_count": 32,
     "metadata": {},
     "output_type": "execute_result"
    }
   ],
   "source": [
    "list(map(lambda x,y:x+y,l1,l2))"
   ]
  },
  {
   "cell_type": "code",
   "execution_count": null,
   "id": "a8caa8d8",
   "metadata": {},
   "outputs": [],
   "source": [
    "#We can set the internal function to some  reference variable and use it"
   ]
  },
  {
   "cell_type": "code",
   "execution_count": 33,
   "id": "250f4455",
   "metadata": {},
   "outputs": [],
   "source": [
    "f=lambda x,y:x*y"
   ]
  },
  {
   "cell_type": "code",
   "execution_count": 34,
   "id": "d35978fa",
   "metadata": {},
   "outputs": [
    {
     "data": {
      "text/plain": [
       "[6, 14, 24, 36, 50]"
      ]
     },
     "execution_count": 34,
     "metadata": {},
     "output_type": "execute_result"
    }
   ],
   "source": [
    "list(map(f,l1,l2))"
   ]
  },
  {
   "cell_type": "code",
   "execution_count": null,
   "id": "1b6820c4",
   "metadata": {},
   "outputs": [],
   "source": [
    "#Take the string and append the character of the string by making it upper case"
   ]
  },
  {
   "cell_type": "code",
   "execution_count": 35,
   "id": "8a3f420c",
   "metadata": {},
   "outputs": [
    {
     "data": {
      "text/plain": [
       "['D', 'E', 'E', 'P', 'A', 'G', 'U', 'P', 'T', 'A']"
      ]
     },
     "execution_count": 35,
     "metadata": {},
     "output_type": "execute_result"
    }
   ],
   "source": [
    "s=\"DeepaGupta\"     #Map function will map character wise the string to the function\n",
    "list(map(lambda x:x.upper(),s))"
   ]
  },
  {
   "cell_type": "code",
   "execution_count": null,
   "id": "09eace1f",
   "metadata": {},
   "outputs": [],
   "source": [
    "#reduce (not present in python code it present in a package by default)"
   ]
  },
  {
   "cell_type": "code",
   "execution_count": 36,
   "id": "1e09e21e",
   "metadata": {},
   "outputs": [],
   "source": [
    "from functools import reduce"
   ]
  },
  {
   "cell_type": "code",
   "execution_count": null,
   "id": "76062bde",
   "metadata": {},
   "outputs": [],
   "source": [
    "#Return the sum of all the element inside a list "
   ]
  },
  {
   "cell_type": "code",
   "execution_count": 39,
   "id": "50f503c5",
   "metadata": {},
   "outputs": [],
   "source": [
    "l=[5,6,7,8,9,2,4,2,5,6]  #(5,6),7,8,9,2,4,2,5,6   -->   11,7,8,9,2,4,2,5,6    and so on\n",
    "                        #   x   y                        x y                     "
   ]
  },
  {
   "cell_type": "code",
   "execution_count": 40,
   "id": "50bf2742",
   "metadata": {},
   "outputs": [
    {
     "data": {
      "text/plain": [
       "54"
      ]
     },
     "execution_count": 40,
     "metadata": {},
     "output_type": "execute_result"
    }
   ],
   "source": [
    "reduce(lambda x,y:x+y,l)"
   ]
  },
  {
   "cell_type": "code",
   "execution_count": null,
   "id": "4fd0f5c9",
   "metadata": {},
   "outputs": [],
   "source": [
    "#write external function and then perform reduce function"
   ]
  },
  {
   "cell_type": "code",
   "execution_count": 41,
   "id": "c9f4f2d1",
   "metadata": {},
   "outputs": [],
   "source": [
    "def add(x,y):\n",
    "    return x+y"
   ]
  },
  {
   "cell_type": "code",
   "execution_count": 42,
   "id": "53044d79",
   "metadata": {},
   "outputs": [
    {
     "data": {
      "text/plain": [
       "54"
      ]
     },
     "execution_count": 42,
     "metadata": {},
     "output_type": "execute_result"
    }
   ],
   "source": [
    "reduce(add,l)"
   ]
  },
  {
   "cell_type": "code",
   "execution_count": 43,
   "id": "e18414b8",
   "metadata": {},
   "outputs": [
    {
     "ename": "TypeError",
     "evalue": "<lambda>() missing 1 required positional argument: 'z'",
     "output_type": "error",
     "traceback": [
      "\u001b[1;31m---------------------------------------------------------------------------\u001b[0m",
      "\u001b[1;31mTypeError\u001b[0m                                 Traceback (most recent call last)",
      "Cell \u001b[1;32mIn[43], line 1\u001b[0m\n\u001b[1;32m----> 1\u001b[0m \u001b[43mreduce\u001b[49m\u001b[43m(\u001b[49m\u001b[38;5;28;43;01mlambda\u001b[39;49;00m\u001b[43m \u001b[49m\u001b[43mx\u001b[49m\u001b[43m,\u001b[49m\u001b[43my\u001b[49m\u001b[43m,\u001b[49m\u001b[43mz\u001b[49m\u001b[43m:\u001b[49m\u001b[43mx\u001b[49m\u001b[38;5;241;43m+\u001b[39;49m\u001b[43my\u001b[49m\u001b[38;5;241;43m+\u001b[39;49m\u001b[43mz\u001b[49m\u001b[43m,\u001b[49m\u001b[43ml\u001b[49m\u001b[43m)\u001b[49m\n",
      "\u001b[1;31mTypeError\u001b[0m: <lambda>() missing 1 required positional argument: 'z'"
     ]
    }
   ],
   "source": [
    "reduce(lambda x,y,z:x+y+z,l)\n",
    "#We cann't perfrom reduce function on 3 parameter(only works on 2 parameters as it reduce the dataset)\n",
    "#so reduce functon only works fine with only 2 parameter function not more than 2 parameters"
   ]
  },
  {
   "cell_type": "code",
   "execution_count": 44,
   "id": "f23aa18b",
   "metadata": {},
   "outputs": [
    {
     "ename": "TypeError",
     "evalue": "reduce() of empty iterable with no initial value",
     "output_type": "error",
     "traceback": [
      "\u001b[1;31m---------------------------------------------------------------------------\u001b[0m",
      "\u001b[1;31mTypeError\u001b[0m                                 Traceback (most recent call last)",
      "Cell \u001b[1;32mIn[44], line 1\u001b[0m\n\u001b[1;32m----> 1\u001b[0m \u001b[43mreduce\u001b[49m\u001b[43m(\u001b[49m\u001b[38;5;28;43;01mlambda\u001b[39;49;00m\u001b[43m \u001b[49m\u001b[43mx\u001b[49m\u001b[43m,\u001b[49m\u001b[43my\u001b[49m\u001b[43m:\u001b[49m\u001b[43mx\u001b[49m\u001b[38;5;241;43m+\u001b[39;49m\u001b[43my\u001b[49m\u001b[43m,\u001b[49m\u001b[43m[\u001b[49m\u001b[43m]\u001b[49m\u001b[43m)\u001b[49m  \u001b[38;5;66;03m#Again it will not work for an empty list \u001b[39;00m\n",
      "\u001b[1;31mTypeError\u001b[0m: reduce() of empty iterable with no initial value"
     ]
    }
   ],
   "source": [
    "reduce(lambda x,y:x+y,[])  #Again it will not work for an empty list "
   ]
  },
  {
   "cell_type": "code",
   "execution_count": 45,
   "id": "be75fc9e",
   "metadata": {},
   "outputs": [
    {
     "data": {
      "text/plain": [
       "2"
      ]
     },
     "execution_count": 45,
     "metadata": {},
     "output_type": "execute_result"
    }
   ],
   "source": [
    "reduce(lambda x,y:x+y,[2])  #but exceptionaly it work for a list having only one element\n",
    "#But how?"
   ]
  },
  {
   "cell_type": "code",
   "execution_count": 46,
   "id": "90c0354a",
   "metadata": {},
   "outputs": [],
   "source": [
    "#Find maximum of the list\n",
    "l=[5,6,7,8,9,2,4,2,5,6]"
   ]
  },
  {
   "cell_type": "code",
   "execution_count": 48,
   "id": "ffede126",
   "metadata": {},
   "outputs": [
    {
     "data": {
      "text/plain": [
       "9"
      ]
     },
     "execution_count": 48,
     "metadata": {},
     "output_type": "execute_result"
    }
   ],
   "source": [
    "reduce(lambda x,y:x if x>y else y,l)"
   ]
  },
  {
   "cell_type": "code",
   "execution_count": null,
   "id": "84701316",
   "metadata": {},
   "outputs": [],
   "source": [
    "#Filter function"
   ]
  },
  {
   "cell_type": "code",
   "execution_count": 49,
   "id": "17a81e3a",
   "metadata": {},
   "outputs": [
    {
     "data": {
      "text/plain": [
       "[5, 6, 7, 8, 9, 2, 4, 2, 5, 6]"
      ]
     },
     "execution_count": 49,
     "metadata": {},
     "output_type": "execute_result"
    }
   ],
   "source": [
    "l"
   ]
  },
  {
   "cell_type": "code",
   "execution_count": null,
   "id": "7639c3ff",
   "metadata": {},
   "outputs": [],
   "source": [
    "#can we filter only the odd or even no from the list?"
   ]
  },
  {
   "cell_type": "code",
   "execution_count": 52,
   "id": "3f440f82",
   "metadata": {},
   "outputs": [
    {
     "data": {
      "text/plain": [
       "<filter at 0x28e67f1e3b0>"
      ]
     },
     "execution_count": 52,
     "metadata": {},
     "output_type": "execute_result"
    }
   ],
   "source": [
    "filter(lambda x:x%2==0,l)"
   ]
  },
  {
   "cell_type": "code",
   "execution_count": 53,
   "id": "7e77276c",
   "metadata": {},
   "outputs": [
    {
     "data": {
      "text/plain": [
       "[6, 8, 2, 4, 2, 6]"
      ]
     },
     "execution_count": 53,
     "metadata": {},
     "output_type": "execute_result"
    }
   ],
   "source": [
    "list(filter(lambda x:x%2==0,l))  #Even"
   ]
  },
  {
   "cell_type": "code",
   "execution_count": 54,
   "id": "a22fb777",
   "metadata": {},
   "outputs": [
    {
     "data": {
      "text/plain": [
       "[5, 7, 9, 5]"
      ]
     },
     "execution_count": 54,
     "metadata": {},
     "output_type": "execute_result"
    }
   ],
   "source": [
    "list(filter(lambda x:x%2!=0,l))  #odd"
   ]
  },
  {
   "cell_type": "code",
   "execution_count": 55,
   "id": "f3b6e53b",
   "metadata": {},
   "outputs": [],
   "source": [
    "#Show only the negative or positive numbers from the list\n",
    "l1=[-1,-2,-3,4,5,7,9,6,5]"
   ]
  },
  {
   "cell_type": "code",
   "execution_count": 57,
   "id": "c4bed00c",
   "metadata": {},
   "outputs": [
    {
     "data": {
      "text/plain": [
       "[-1, -2, -3]"
      ]
     },
     "execution_count": 57,
     "metadata": {},
     "output_type": "execute_result"
    }
   ],
   "source": [
    "list(filter(lambda x:x<0,l1))    #negative no"
   ]
  },
  {
   "cell_type": "code",
   "execution_count": null,
   "id": "270d33f2",
   "metadata": {},
   "outputs": [],
   "source": [
    "list(filter(lambda x:x>=0,l1))   #positive no"
   ]
  },
  {
   "cell_type": "code",
   "execution_count": 61,
   "id": "59ba1bdd",
   "metadata": {},
   "outputs": [],
   "source": [
    "#Show the string whose length is less than 6\n",
    "l2=[\"Deepa\",\"Gupta\",\"YMCA\",\"Aman\",\"Punjab\",\"Chennai\"]"
   ]
  },
  {
   "cell_type": "code",
   "execution_count": 62,
   "id": "e4b63e3b",
   "metadata": {},
   "outputs": [
    {
     "data": {
      "text/plain": [
       "['Deepa', 'Gupta', 'YMCA', 'Aman']"
      ]
     },
     "execution_count": 62,
     "metadata": {},
     "output_type": "execute_result"
    }
   ],
   "source": [
    "list(filter(lambda x:len(x)<6,l2))"
   ]
  }
 ],
 "metadata": {
  "kernelspec": {
   "display_name": "Python 3 (ipykernel)",
   "language": "python",
   "name": "python3"
  },
  "language_info": {
   "codemirror_mode": {
    "name": "ipython",
    "version": 3
   },
   "file_extension": ".py",
   "mimetype": "text/x-python",
   "name": "python",
   "nbconvert_exporter": "python",
   "pygments_lexer": "ipython3",
   "version": "3.11.0"
  }
 },
 "nbformat": 4,
 "nbformat_minor": 5
}

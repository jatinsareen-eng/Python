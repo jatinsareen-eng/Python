{
 "cells": [
  {
   "cell_type": "markdown",
   "id": "ee0c3411",
   "metadata": {},
   "source": [
    "Tuples"
   ]
  },
  {
   "cell_type": "code",
   "execution_count": 8,
   "id": "1bf5f90a",
   "metadata": {},
   "outputs": [],
   "source": [
    "t=()"
   ]
  },
  {
   "cell_type": "code",
   "execution_count": 9,
   "id": "b61ae738",
   "metadata": {},
   "outputs": [
    {
     "data": {
      "text/plain": [
       "tuple"
      ]
     },
     "execution_count": 9,
     "metadata": {},
     "output_type": "execute_result"
    }
   ],
   "source": [
    "type(t)"
   ]
  },
  {
   "cell_type": "markdown",
   "id": "de5b4325",
   "metadata": {},
   "source": [
    "To create a tuple with a single item, you need to add a comma after the item. Otherwise, \n",
    "Python will not recognize the variable as a tuple, and it will treat it as a string type."
   ]
  },
  {
   "cell_type": "code",
   "execution_count": 5,
   "id": "1169c802",
   "metadata": {},
   "outputs": [],
   "source": [
    "t1=(1,)"
   ]
  },
  {
   "cell_type": "code",
   "execution_count": 7,
   "id": "ed36fbba",
   "metadata": {},
   "outputs": [
    {
     "data": {
      "text/plain": [
       "tuple"
      ]
     },
     "execution_count": 7,
     "metadata": {},
     "output_type": "execute_result"
    }
   ],
   "source": [
    "type(t1)"
   ]
  },
  {
   "cell_type": "code",
   "execution_count": 10,
   "id": "a13435fe",
   "metadata": {},
   "outputs": [],
   "source": [
    "t=(1,2,34,56.67,\"Aman\",True,4.0)"
   ]
  },
  {
   "cell_type": "code",
   "execution_count": 11,
   "id": "e003bef2",
   "metadata": {},
   "outputs": [
    {
     "data": {
      "text/plain": [
       "(1, 2, 34, 56.67, 'Aman', True, 4.0)"
      ]
     },
     "execution_count": 11,
     "metadata": {},
     "output_type": "execute_result"
    }
   ],
   "source": [
    "t"
   ]
  },
  {
   "cell_type": "code",
   "execution_count": 12,
   "id": "ef6a607e",
   "metadata": {},
   "outputs": [
    {
     "data": {
      "text/plain": [
       "56.67"
      ]
     },
     "execution_count": 12,
     "metadata": {},
     "output_type": "execute_result"
    }
   ],
   "source": [
    "#Accessing a tuple item\n",
    "t[3]"
   ]
  },
  {
   "cell_type": "code",
   "execution_count": 15,
   "id": "8664bf50",
   "metadata": {},
   "outputs": [
    {
     "data": {
      "text/plain": [
       "True"
      ]
     },
     "execution_count": 15,
     "metadata": {},
     "output_type": "execute_result"
    }
   ],
   "source": [
    "t[5]"
   ]
  },
  {
   "cell_type": "code",
   "execution_count": 16,
   "id": "b675b9dd",
   "metadata": {},
   "outputs": [
    {
     "data": {
      "text/plain": [
       "(4.0, True, 'Aman', 56.67, 34, 2, 1)"
      ]
     },
     "execution_count": 16,
     "metadata": {},
     "output_type": "execute_result"
    }
   ],
   "source": [
    "#Tuple in reverse order\n",
    "t[::-1]    #It will not change the real tuple"
   ]
  },
  {
   "cell_type": "code",
   "execution_count": 18,
   "id": "a6838d31",
   "metadata": {},
   "outputs": [
    {
     "data": {
      "text/plain": [
       "(2, 34, 56.67, 'Aman')"
      ]
     },
     "execution_count": 18,
     "metadata": {},
     "output_type": "execute_result"
    }
   ],
   "source": [
    "#slicing in tuple\n",
    "t[1:5]"
   ]
  },
  {
   "cell_type": "code",
   "execution_count": 20,
   "id": "18442f32",
   "metadata": {},
   "outputs": [
    {
     "data": {
      "text/plain": [
       "1"
      ]
     },
     "execution_count": 20,
     "metadata": {},
     "output_type": "execute_result"
    }
   ],
   "source": [
    "#in tuple we have only 2 method(count,index)\n",
    "t.count(2)     #press tab after t. to display all the available functions"
   ]
  },
  {
   "cell_type": "code",
   "execution_count": 21,
   "id": "29891337",
   "metadata": {},
   "outputs": [
    {
     "data": {
      "text/plain": [
       "0"
      ]
     },
     "execution_count": 21,
     "metadata": {},
     "output_type": "execute_result"
    }
   ],
   "source": [
    "t.count(\"abc\")"
   ]
  },
  {
   "cell_type": "code",
   "execution_count": 22,
   "id": "48f72756",
   "metadata": {},
   "outputs": [
    {
     "data": {
      "text/plain": [
       "0"
      ]
     },
     "execution_count": 22,
     "metadata": {},
     "output_type": "execute_result"
    }
   ],
   "source": [
    "t.index(1)   #return index of first value"
   ]
  },
  {
   "cell_type": "code",
   "execution_count": 23,
   "id": "2121c0d5",
   "metadata": {},
   "outputs": [],
   "source": [
    "#Assigning the reverse to the t\n",
    "t=t[::-1]"
   ]
  },
  {
   "cell_type": "code",
   "execution_count": 24,
   "id": "997a8b4f",
   "metadata": {},
   "outputs": [
    {
     "data": {
      "text/plain": [
       "(4.0, True, 'Aman', 56.67, 34, 2, 1)"
      ]
     },
     "execution_count": 24,
     "metadata": {},
     "output_type": "execute_result"
    }
   ],
   "source": [
    "t"
   ]
  },
  {
   "cell_type": "code",
   "execution_count": 25,
   "id": "3e310eef",
   "metadata": {},
   "outputs": [
    {
     "data": {
      "text/plain": [
       "1"
      ]
     },
     "execution_count": 25,
     "metadata": {},
     "output_type": "execute_result"
    }
   ],
   "source": [
    "#now the index of 1 should display the 6\n",
    "t.index(1)   "
   ]
  },
  {
   "cell_type": "code",
   "execution_count": 26,
   "id": "0b5df898",
   "metadata": {},
   "outputs": [
    {
     "data": {
      "text/plain": [
       "1"
      ]
     },
     "execution_count": 26,
     "metadata": {},
     "output_type": "execute_result"
    }
   ],
   "source": [
    " #But it returns index 1(true) because the python consider the true as 1 ,false as 0 and vice versa\n",
    " t.index(True)"
   ]
  },
  {
   "cell_type": "code",
   "execution_count": 27,
   "id": "ca6d938a",
   "metadata": {},
   "outputs": [
    {
     "data": {
      "text/plain": [
       "2"
      ]
     },
     "execution_count": 27,
     "metadata": {},
     "output_type": "execute_result"
    }
   ],
   "source": [
    "t.count(True)   #Giving answer 2 because 1 is also true in python"
   ]
  },
  {
   "cell_type": "code",
   "execution_count": 28,
   "id": "7e17f998",
   "metadata": {},
   "outputs": [
    {
     "data": {
      "text/plain": [
       "2"
      ]
     },
     "execution_count": 28,
     "metadata": {},
     "output_type": "execute_result"
    }
   ],
   "source": [
    "t.count(1)     #Giving answer 2 because true is also 1 in python"
   ]
  },
  {
   "cell_type": "code",
   "execution_count": null,
   "id": "16438ce0",
   "metadata": {},
   "outputs": [],
   "source": [
    "#Immutablility of the tuple"
   ]
  },
  {
   "cell_type": "code",
   "execution_count": 29,
   "id": "f94571a9",
   "metadata": {},
   "outputs": [
    {
     "ename": "TypeError",
     "evalue": "'tuple' object does not support item assignment",
     "output_type": "error",
     "traceback": [
      "\u001b[1;31m---------------------------------------------------------------------------\u001b[0m",
      "\u001b[1;31mTypeError\u001b[0m                                 Traceback (most recent call last)",
      "Cell \u001b[1;32mIn[29], line 1\u001b[0m\n\u001b[1;32m----> 1\u001b[0m \u001b[43mt\u001b[49m\u001b[43m[\u001b[49m\u001b[38;5;241;43m3\u001b[39;49m\u001b[43m]\u001b[49m\u001b[38;5;241m=\u001b[39m\u001b[38;5;124m\"\u001b[39m\u001b[38;5;124mDeepa\u001b[39m\u001b[38;5;124m\"\u001b[39m\n",
      "\u001b[1;31mTypeError\u001b[0m: 'tuple' object does not support item assignment"
     ]
    }
   ],
   "source": [
    "t[3]=\"Deepa\"  #can't change the tuple (list can be change)"
   ]
  },
  {
   "cell_type": "code",
   "execution_count": 32,
   "id": "f1bd6c8f",
   "metadata": {},
   "outputs": [
    {
     "name": "stdout",
     "output_type": "stream",
     "text": [
      "4.0 <class 'float'>\n",
      "True <class 'bool'>\n",
      "Aman <class 'str'>\n",
      "56.67 <class 'float'>\n",
      "34 <class 'int'>\n",
      "2 <class 'int'>\n",
      "1 <class 'int'>\n"
     ]
    }
   ],
   "source": [
    "#Itertate through tuple \n",
    "for i in t:\n",
    "    print(i,type(i))"
   ]
  },
  {
   "cell_type": "code",
   "execution_count": 33,
   "id": "172799e5",
   "metadata": {},
   "outputs": [
    {
     "data": {
      "text/plain": [
       "(4.0,\n",
       " True,\n",
       " 'Aman',\n",
       " 56.67,\n",
       " 34,\n",
       " 2,\n",
       " 1,\n",
       " 4.0,\n",
       " True,\n",
       " 'Aman',\n",
       " 56.67,\n",
       " 34,\n",
       " 2,\n",
       " 1,\n",
       " 4.0,\n",
       " True,\n",
       " 'Aman',\n",
       " 56.67,\n",
       " 34,\n",
       " 2,\n",
       " 1)"
      ]
     },
     "execution_count": 33,
     "metadata": {},
     "output_type": "execute_result"
    }
   ],
   "source": [
    "#replicate tuple\n",
    "t*3"
   ]
  },
  {
   "cell_type": "code",
   "execution_count": 34,
   "id": "00c6279e",
   "metadata": {},
   "outputs": [
    {
     "ename": "TypeError",
     "evalue": "'>' not supported between instances of 'str' and 'float'",
     "output_type": "error",
     "traceback": [
      "\u001b[1;31m---------------------------------------------------------------------------\u001b[0m",
      "\u001b[1;31mTypeError\u001b[0m                                 Traceback (most recent call last)",
      "Cell \u001b[1;32mIn[34], line 2\u001b[0m\n\u001b[0;32m      1\u001b[0m \u001b[38;5;66;03m#maximum of tuple\u001b[39;00m\n\u001b[1;32m----> 2\u001b[0m \u001b[38;5;28;43mmax\u001b[39;49m\u001b[43m(\u001b[49m\u001b[43mt\u001b[49m\u001b[43m)\u001b[49m\n",
      "\u001b[1;31mTypeError\u001b[0m: '>' not supported between instances of 'str' and 'float'"
     ]
    }
   ],
   "source": [
    "#maximum of tuple\n",
    "max(t)"
   ]
  },
  {
   "cell_type": "code",
   "execution_count": 35,
   "id": "46e238ed",
   "metadata": {},
   "outputs": [],
   "source": [
    "t1=(1,2,3,4,5,6,7,7,2,4,23,234,443)"
   ]
  },
  {
   "cell_type": "code",
   "execution_count": 37,
   "id": "d891a552",
   "metadata": {},
   "outputs": [
    {
     "data": {
      "text/plain": [
       "443"
      ]
     },
     "execution_count": 37,
     "metadata": {},
     "output_type": "execute_result"
    }
   ],
   "source": [
    "max(t1)"
   ]
  },
  {
   "cell_type": "code",
   "execution_count": 38,
   "id": "dfbf0229",
   "metadata": {},
   "outputs": [
    {
     "data": {
      "text/plain": [
       "1"
      ]
     },
     "execution_count": 38,
     "metadata": {},
     "output_type": "execute_result"
    }
   ],
   "source": [
    "#minimum of t1\n",
    "min(t1)"
   ]
  },
  {
   "cell_type": "code",
   "execution_count": null,
   "id": "b6554158",
   "metadata": {},
   "outputs": [],
   "source": [
    "#When we don't want anyone to change in our data then we use tuples(ex:password)"
   ]
  },
  {
   "cell_type": "code",
   "execution_count": 41,
   "id": "5e56a1e3",
   "metadata": {},
   "outputs": [],
   "source": [
    "#TUple inside tuple\n",
    "tu1=(2,3,4,5,7)\n",
    "tu2=(5,6,8,7,86,5,6,43,2)\n",
    "tu3=(tu2,tu1)"
   ]
  },
  {
   "cell_type": "code",
   "execution_count": 42,
   "id": "9427ef6b",
   "metadata": {},
   "outputs": [
    {
     "data": {
      "text/plain": [
       "((5, 6, 8, 7, 86, 5, 6, 43, 2), (2, 3, 4, 5, 7))"
      ]
     },
     "execution_count": 42,
     "metadata": {},
     "output_type": "execute_result"
    }
   ],
   "source": [
    "tu3"
   ]
  },
  {
   "cell_type": "code",
   "execution_count": 43,
   "id": "905d6460",
   "metadata": {},
   "outputs": [
    {
     "data": {
      "text/plain": [
       "((1, 5, 7, 5, 7, 56, 0), [1, 2, 3, 4])"
      ]
     },
     "execution_count": 43,
     "metadata": {},
     "output_type": "execute_result"
    }
   ],
   "source": [
    "#list inside a tuple\n",
    "tu4=((1,5,7,5,7,56,0),[1,2,3,4])\n",
    "tu4"
   ]
  },
  {
   "cell_type": "code",
   "execution_count": 53,
   "id": "36926b25",
   "metadata": {},
   "outputs": [
    {
     "data": {
      "text/plain": [
       "((2, 4, 5, 7), {3, 4, 6, 7})"
      ]
     },
     "execution_count": 53,
     "metadata": {},
     "output_type": "execute_result"
    }
   ],
   "source": [
    "#set inside a tuple\n",
    "tu5=((2,4,5,7),{3,4,6,7})\n",
    "tu5"
   ]
  },
  {
   "cell_type": "code",
   "execution_count": 44,
   "id": "7588059b",
   "metadata": {},
   "outputs": [],
   "source": [
    "#delete  the tuple\n",
    "del(tu3)"
   ]
  },
  {
   "cell_type": "code",
   "execution_count": 45,
   "id": "3a52bc63",
   "metadata": {},
   "outputs": [
    {
     "ename": "NameError",
     "evalue": "name 'tu3' is not defined",
     "output_type": "error",
     "traceback": [
      "\u001b[1;31m---------------------------------------------------------------------------\u001b[0m",
      "\u001b[1;31mNameError\u001b[0m                                 Traceback (most recent call last)",
      "Cell \u001b[1;32mIn[45], line 1\u001b[0m\n\u001b[1;32m----> 1\u001b[0m \u001b[43mtu3\u001b[49m\n",
      "\u001b[1;31mNameError\u001b[0m: name 'tu3' is not defined"
     ]
    }
   ],
   "source": [
    "tu3"
   ]
  },
  {
   "cell_type": "code",
   "execution_count": 46,
   "id": "45879bc8",
   "metadata": {},
   "outputs": [
    {
     "data": {
      "text/plain": [
       "2"
      ]
     },
     "execution_count": 46,
     "metadata": {},
     "output_type": "execute_result"
    }
   ],
   "source": [
    "#length function\n",
    "len(tu4)"
   ]
  },
  {
   "cell_type": "code",
   "execution_count": 48,
   "id": "de92802f",
   "metadata": {},
   "outputs": [
    {
     "data": {
      "text/plain": [
       "13"
      ]
     },
     "execution_count": 48,
     "metadata": {},
     "output_type": "execute_result"
    }
   ],
   "source": [
    "len(t1)"
   ]
  },
  {
   "cell_type": "code",
   "execution_count": 49,
   "id": "bc4c254f",
   "metadata": {},
   "outputs": [
    {
     "data": {
      "text/plain": [
       "True"
      ]
     },
     "execution_count": 49,
     "metadata": {},
     "output_type": "execute_result"
    }
   ],
   "source": [
    "#Check whether a element is persent or not\n",
    "3 in t1"
   ]
  },
  {
   "cell_type": "code",
   "execution_count": 50,
   "id": "7b33b833",
   "metadata": {},
   "outputs": [
    {
     "data": {
      "text/plain": [
       "False"
      ]
     },
     "execution_count": 50,
     "metadata": {},
     "output_type": "execute_result"
    }
   ],
   "source": [
    "\"ghr\" in tu4"
   ]
  },
  {
   "cell_type": "markdown",
   "id": "e5a20935",
   "metadata": {},
   "source": [
    "Sets"
   ]
  },
  {
   "cell_type": "code",
   "execution_count": 1,
   "id": "c2fd1416",
   "metadata": {},
   "outputs": [],
   "source": [
    "s={}"
   ]
  },
  {
   "cell_type": "code",
   "execution_count": 2,
   "id": "da0a6fef",
   "metadata": {},
   "outputs": [
    {
     "data": {
      "text/plain": [
       "dict"
      ]
     },
     "execution_count": 2,
     "metadata": {},
     "output_type": "execute_result"
    }
   ],
   "source": [
    "type(s)  #It is going type as dictionery"
   ]
  },
  {
   "cell_type": "code",
   "execution_count": 3,
   "id": "600be703",
   "metadata": {},
   "outputs": [],
   "source": [
    "s={1,2,3,5,78,\"String\",True}    #now it will show type as a set"
   ]
  },
  {
   "cell_type": "code",
   "execution_count": 4,
   "id": "c2dfc1fa",
   "metadata": {},
   "outputs": [
    {
     "data": {
      "text/plain": [
       "set"
      ]
     },
     "execution_count": 4,
     "metadata": {},
     "output_type": "execute_result"
    }
   ],
   "source": [
    "type(s)"
   ]
  },
  {
   "cell_type": "code",
   "execution_count": 5,
   "id": "ef330a73",
   "metadata": {},
   "outputs": [],
   "source": [
    "s1={1,2,1,2,4,8,88,9,3}"
   ]
  },
  {
   "cell_type": "code",
   "execution_count": 6,
   "id": "6799bb89",
   "metadata": {},
   "outputs": [
    {
     "data": {
      "text/plain": [
       "{1, 2, 3, 4, 8, 9, 88}"
      ]
     },
     "execution_count": 6,
     "metadata": {},
     "output_type": "execute_result"
    }
   ],
   "source": [
    "s1    #There is not a single duplicate value (gives unique elements)"
   ]
  },
  {
   "cell_type": "code",
   "execution_count": 10,
   "id": "6e99ff87",
   "metadata": {},
   "outputs": [
    {
     "data": {
      "text/plain": [
       "[1, 2, 3, 4, 8, 9, 88]"
      ]
     },
     "execution_count": 10,
     "metadata": {},
     "output_type": "execute_result"
    }
   ],
   "source": [
    "#Convert the set into list\n",
    "l=list(s1)\n",
    "l"
   ]
  },
  {
   "cell_type": "code",
   "execution_count": 11,
   "id": "5161ef82",
   "metadata": {},
   "outputs": [
    {
     "data": {
      "text/plain": [
       "{1, 2, 3, 4, 8, 9, 88}"
      ]
     },
     "execution_count": 11,
     "metadata": {},
     "output_type": "execute_result"
    }
   ],
   "source": [
    "#Convert the list into a set\n",
    "set(l)"
   ]
  },
  {
   "cell_type": "code",
   "execution_count": 12,
   "id": "dd1342fb",
   "metadata": {},
   "outputs": [
    {
     "ename": "TypeError",
     "evalue": "unhashable type: 'list'",
     "output_type": "error",
     "traceback": [
      "\u001b[1;31m---------------------------------------------------------------------------\u001b[0m",
      "\u001b[1;31mTypeError\u001b[0m                                 Traceback (most recent call last)",
      "Cell \u001b[1;32mIn[12], line 2\u001b[0m\n\u001b[0;32m      1\u001b[0m \u001b[38;5;66;03m#Make a list inside the set\u001b[39;00m\n\u001b[1;32m----> 2\u001b[0m s2\u001b[38;5;241m=\u001b[39m{\u001b[38;5;241m2\u001b[39m,\u001b[38;5;241m3\u001b[39m,\u001b[38;5;241m5\u001b[39m,\u001b[38;5;241m7\u001b[39m,\u001b[38;5;241m5\u001b[39m,[\u001b[38;5;241m2\u001b[39m,\u001b[38;5;241m5\u001b[39m,\u001b[38;5;241m3\u001b[39m,\u001b[38;5;241m6\u001b[39m,\u001b[38;5;241m3\u001b[39m,\u001b[38;5;241m5\u001b[39m]}\n",
      "\u001b[1;31mTypeError\u001b[0m: unhashable type: 'list'"
     ]
    }
   ],
   "source": [
    "#Make a list inside the set(cannot do this)\n",
    "s2={2,3,5,7,5,[2,5,3,6,3,5]}   \n",
    "#Showing an error of unhashable(it store the unique values by \n",
    "                               #converting that value into a hashable index )"
   ]
  },
  {
   "cell_type": "code",
   "execution_count": 13,
   "id": "ae3c4235",
   "metadata": {},
   "outputs": [
    {
     "data": {
      "text/plain": [
       "{(2, 4, 5, 7, 8, 9), 3, 5, 7, 84}"
      ]
     },
     "execution_count": 13,
     "metadata": {},
     "output_type": "execute_result"
    }
   ],
   "source": [
    "#Make a set having a tuple\n",
    "s3={3,5,7,84,(2,4,5,7,8,9)}\n",
    "s3"
   ]
  },
  {
   "cell_type": "code",
   "execution_count": 2,
   "id": "6252fc71",
   "metadata": {},
   "outputs": [
    {
     "data": {
      "text/plain": [
       "{23, 3, 4, 6, 'Deepa', 'deepa'}"
      ]
     },
     "execution_count": 2,
     "metadata": {},
     "output_type": "execute_result"
    }
   ],
   "source": [
    "s4={\"Deepa\",\"deepa\",23,3,4,6}  # both value is stored as python is case sensitive language\n",
    "s4"
   ]
  },
  {
   "cell_type": "code",
   "execution_count": 3,
   "id": "b7e261f7",
   "metadata": {},
   "outputs": [
    {
     "ename": "TypeError",
     "evalue": "'set' object does not support item assignment",
     "output_type": "error",
     "traceback": [
      "\u001b[1;31m---------------------------------------------------------------------------\u001b[0m",
      "\u001b[1;31mTypeError\u001b[0m                                 Traceback (most recent call last)",
      "Cell \u001b[1;32mIn[3], line 3\u001b[0m\n\u001b[0;32m      1\u001b[0m \u001b[38;5;66;03m#We cannot access the index of the items of a set (as set is unordered type of collection)\u001b[39;00m\n\u001b[0;32m      2\u001b[0m \u001b[38;5;66;03m#as it stores the hashable value internally\u001b[39;00m\n\u001b[1;32m----> 3\u001b[0m \u001b[43ms4\u001b[49m\u001b[43m[\u001b[49m\u001b[38;5;241;43m3\u001b[39;49m\u001b[43m]\u001b[49m\u001b[38;5;241m=\u001b[39m\u001b[38;5;241m5\u001b[39m\n",
      "\u001b[1;31mTypeError\u001b[0m: 'set' object does not support item assignment"
     ]
    }
   ],
   "source": [
    "#We cannot access the index of the items of a set (as set is unordered type of collection)\n",
    "#as it stores the hashable value internally\n",
    "s4[3]"
   ]
  },
  {
   "cell_type": "markdown",
   "id": "45232a71",
   "metadata": {},
   "source": [
    "We mostly use sets for mathematical operations such as union and intersection. Sets are unordered; it means item order isn’t fixed. So we cannot be sure in which order the items will appear. \n",
    "The set is mutable. We can add or remove items from it when required."
   ]
  },
  {
   "cell_type": "code",
   "execution_count": 4,
   "id": "595dae2a",
   "metadata": {},
   "outputs": [
    {
     "ename": "TypeError",
     "evalue": "'set' object does not support item assignment",
     "output_type": "error",
     "traceback": [
      "\u001b[1;31m---------------------------------------------------------------------------\u001b[0m",
      "\u001b[1;31mTypeError\u001b[0m                                 Traceback (most recent call last)",
      "Cell \u001b[1;32mIn[4], line 2\u001b[0m\n\u001b[0;32m      1\u001b[0m \u001b[38;5;66;03m#\u001b[39;00m\n\u001b[1;32m----> 2\u001b[0m \u001b[43ms4\u001b[49m\u001b[43m[\u001b[49m\u001b[38;5;241;43m3\u001b[39;49m\u001b[43m]\u001b[49m\u001b[38;5;241m=\u001b[39m\u001b[38;5;241m5\u001b[39m\n",
      "\u001b[1;31mTypeError\u001b[0m: 'set' object does not support item assignment"
     ]
    }
   ],
   "source": [
    "#We cannot change the set\n",
    "s4[3]=5"
   ]
  },
  {
   "cell_type": "code",
   "execution_count": null,
   "id": "6aa43096",
   "metadata": {},
   "outputs": [],
   "source": [
    "#Cant do reverse of the set "
   ]
  },
  {
   "cell_type": "code",
   "execution_count": 16,
   "id": "bed229b1",
   "metadata": {},
   "outputs": [
    {
     "name": "stdout",
     "output_type": "stream",
     "text": [
      "3\n",
      "4\n",
      "6\n",
      "23\n",
      "deepa\n",
      "Deepa\n"
     ]
    }
   ],
   "source": [
    "#We can iterate through a set\n",
    "for i in s4:\n",
    "    print(i)"
   ]
  },
  {
   "cell_type": "code",
   "execution_count": 19,
   "id": "3858aa27",
   "metadata": {},
   "outputs": [],
   "source": [
    "s4.add(8)     # tab key will show every function"
   ]
  },
  {
   "cell_type": "code",
   "execution_count": 20,
   "id": "d26ef9c7",
   "metadata": {},
   "outputs": [
    {
     "data": {
      "text/plain": [
       "{23, 3, 4, 6, 8, 'Deepa', 'deepa'}"
      ]
     },
     "execution_count": 20,
     "metadata": {},
     "output_type": "execute_result"
    }
   ],
   "source": [
    "s4"
   ]
  },
  {
   "cell_type": "code",
   "execution_count": 21,
   "id": "65034db8",
   "metadata": {},
   "outputs": [],
   "source": [
    "s4.add(23)"
   ]
  },
  {
   "cell_type": "code",
   "execution_count": 22,
   "id": "f586c0bc",
   "metadata": {},
   "outputs": [
    {
     "data": {
      "text/plain": [
       "{23, 3, 4, 6, 8, 'Deepa', 'deepa'}"
      ]
     },
     "execution_count": 22,
     "metadata": {},
     "output_type": "execute_result"
    }
   ],
   "source": [
    "s4   #cant add duplicate value"
   ]
  },
  {
   "cell_type": "code",
   "execution_count": 23,
   "id": "a27021e3",
   "metadata": {},
   "outputs": [
    {
     "data": {
      "text/plain": [
       "7"
      ]
     },
     "execution_count": 23,
     "metadata": {},
     "output_type": "execute_result"
    }
   ],
   "source": [
    "#Total no of element of set\n",
    "len(s4)"
   ]
  },
  {
   "cell_type": "code",
   "execution_count": 24,
   "id": "3944f066",
   "metadata": {},
   "outputs": [
    {
     "data": {
      "text/plain": [
       "3"
      ]
     },
     "execution_count": 24,
     "metadata": {},
     "output_type": "execute_result"
    }
   ],
   "source": [
    "# remove arbituary set of element\n",
    "s4.pop()"
   ]
  },
  {
   "cell_type": "code",
   "execution_count": 27,
   "id": "16b428ce",
   "metadata": {},
   "outputs": [],
   "source": [
    "#clear (create the set empty)\n",
    "s4.clear()"
   ]
  },
  {
   "cell_type": "code",
   "execution_count": 28,
   "id": "a3213cd9",
   "metadata": {},
   "outputs": [
    {
     "data": {
      "text/plain": [
       "set()"
      ]
     },
     "execution_count": 28,
     "metadata": {},
     "output_type": "execute_result"
    }
   ],
   "source": [
    "s4"
   ]
  },
  {
   "cell_type": "code",
   "execution_count": 29,
   "id": "ad518fb1",
   "metadata": {},
   "outputs": [],
   "source": [
    "s5={1,2,3,4}\n",
    "s6={1,2,3,5}"
   ]
  },
  {
   "cell_type": "code",
   "execution_count": 30,
   "id": "b3452287",
   "metadata": {},
   "outputs": [
    {
     "data": {
      "text/plain": [
       "{4}"
      ]
     },
     "execution_count": 30,
     "metadata": {},
     "output_type": "execute_result"
    }
   ],
   "source": [
    "#Difference (unmatching of element)\n",
    "s5.difference(s6)"
   ]
  },
  {
   "cell_type": "code",
   "execution_count": 31,
   "id": "673ed71e",
   "metadata": {},
   "outputs": [
    {
     "data": {
      "text/plain": [
       "{5}"
      ]
     },
     "execution_count": 31,
     "metadata": {},
     "output_type": "execute_result"
    }
   ],
   "source": [
    "s6.difference(s5)"
   ]
  },
  {
   "cell_type": "markdown",
   "id": "311155a0",
   "metadata": {},
   "source": [
    "Dictionery"
   ]
  },
  {
   "cell_type": "code",
   "execution_count": 32,
   "id": "a3423356",
   "metadata": {},
   "outputs": [],
   "source": [
    "d={}"
   ]
  },
  {
   "cell_type": "code",
   "execution_count": 33,
   "id": "0fe2cdc4",
   "metadata": {},
   "outputs": [
    {
     "data": {
      "text/plain": [
       "dict"
      ]
     },
     "execution_count": 33,
     "metadata": {},
     "output_type": "execute_result"
    }
   ],
   "source": [
    "type(d)"
   ]
  },
  {
   "cell_type": "markdown",
   "id": "342bada3",
   "metadata": {},
   "source": [
    "We can use the == and != operators to check whether the dictionary contains the same items."
   ]
  },
  {
   "cell_type": "code",
   "execution_count": 34,
   "id": "f21d3057",
   "metadata": {},
   "outputs": [],
   "source": [
    "d={\"name\":\"deepa\",\"email\":\"deep@3736gmail.com\",\"mno\":57653443}"
   ]
  },
  {
   "cell_type": "code",
   "execution_count": 35,
   "id": "4488dfb2",
   "metadata": {},
   "outputs": [
    {
     "data": {
      "text/plain": [
       "{'name': 'deepa', 'email': 'deep@3736gmail.com', 'mno': 57653443}"
      ]
     },
     "execution_count": 35,
     "metadata": {},
     "output_type": "execute_result"
    }
   ],
   "source": [
    "d   #Key and value pair is a dictionery"
   ]
  },
  {
   "cell_type": "code",
   "execution_count": 36,
   "id": "27ac2bcb",
   "metadata": {},
   "outputs": [],
   "source": [
    "d2={\"name\":\"Deepa\",\"name\":\"DeepaGupta\",\"mno.\":767657}"
   ]
  },
  {
   "cell_type": "code",
   "execution_count": 37,
   "id": "480a5cf3",
   "metadata": {},
   "outputs": [
    {
     "data": {
      "text/plain": [
       "{'name': 'DeepaGupta', 'mno.': 767657}"
      ]
     },
     "execution_count": 37,
     "metadata": {},
     "output_type": "execute_result"
    }
   ],
   "source": [
    "d2   #the key will be unique only and it will updated with the latest value "
   ]
  },
  {
   "cell_type": "code",
   "execution_count": 38,
   "id": "080a5182",
   "metadata": {},
   "outputs": [],
   "source": [
    "d3={123:\"abc\",\"string\":\"abc\"}"
   ]
  },
  {
   "cell_type": "code",
   "execution_count": 39,
   "id": "28eebcca",
   "metadata": {},
   "outputs": [
    {
     "data": {
      "text/plain": [
       "{123: 'abc', 'string': 'abc'}"
      ]
     },
     "execution_count": 39,
     "metadata": {},
     "output_type": "execute_result"
    }
   ],
   "source": [
    "d3  # the value of two different key can be same "
   ]
  },
  {
   "cell_type": "code",
   "execution_count": null,
   "id": "729320b6",
   "metadata": {},
   "outputs": [],
   "source": [
    "#key can be a number,string,boolean,float  \n",
    "#but we cannot take any special character as a key of a dictionery"
   ]
  },
  {
   "cell_type": "code",
   "execution_count": 40,
   "id": "f8a2fc5f",
   "metadata": {},
   "outputs": [
    {
     "ename": "TypeError",
     "evalue": "unhashable type: 'list'",
     "output_type": "error",
     "traceback": [
      "\u001b[1;31m---------------------------------------------------------------------------\u001b[0m",
      "\u001b[1;31mTypeError\u001b[0m                                 Traceback (most recent call last)",
      "Cell \u001b[1;32mIn[40], line 2\u001b[0m\n\u001b[0;32m      1\u001b[0m \u001b[38;5;66;03m#can a list can be key\u001b[39;00m\n\u001b[1;32m----> 2\u001b[0m d4\u001b[38;5;241m=\u001b[39m{[\u001b[38;5;241m1\u001b[39m,\u001b[38;5;241m2\u001b[39m,\u001b[38;5;241m3\u001b[39m,\u001b[38;5;241m4\u001b[39m]:\u001b[38;5;124m\"\u001b[39m\u001b[38;5;124mabc\u001b[39m\u001b[38;5;124m\"\u001b[39m}\n",
      "\u001b[1;31mTypeError\u001b[0m: unhashable type: 'list'"
     ]
    }
   ],
   "source": [
    "#can a list can be key\n",
    "d4={[1,2,3,4]:\"abc\"}    #list cannot be a key(it is of a unhashable type)"
   ]
  },
  {
   "cell_type": "code",
   "execution_count": 41,
   "id": "a6d2951f",
   "metadata": {},
   "outputs": [],
   "source": [
    "#can a tuple can be key\n",
    "d5={(1,2,3,4):\"abc\"}"
   ]
  },
  {
   "cell_type": "code",
   "execution_count": 42,
   "id": "63f9c2e2",
   "metadata": {},
   "outputs": [
    {
     "data": {
      "text/plain": [
       "{(1, 2, 3, 4): 'abc'}"
      ]
     },
     "execution_count": 42,
     "metadata": {},
     "output_type": "execute_result"
    }
   ],
   "source": [
    "d5     #yes, tuple can be a key of a dictionery "
   ]
  },
  {
   "cell_type": "code",
   "execution_count": 43,
   "id": "6303a67a",
   "metadata": {},
   "outputs": [
    {
     "ename": "TypeError",
     "evalue": "unhashable type: 'set'",
     "output_type": "error",
     "traceback": [
      "\u001b[1;31m---------------------------------------------------------------------------\u001b[0m",
      "\u001b[1;31mTypeError\u001b[0m                                 Traceback (most recent call last)",
      "Cell \u001b[1;32mIn[43], line 2\u001b[0m\n\u001b[0;32m      1\u001b[0m \u001b[38;5;66;03m#can we take a set as a key\u001b[39;00m\n\u001b[1;32m----> 2\u001b[0m d6\u001b[38;5;241m=\u001b[39m{{\u001b[38;5;241m1\u001b[39m,\u001b[38;5;241m2\u001b[39m,\u001b[38;5;241m4\u001b[39m,\u001b[38;5;241m5\u001b[39m}:\u001b[38;5;124m\"\u001b[39m\u001b[38;5;124mabc\u001b[39m\u001b[38;5;124m\"\u001b[39m}\n",
      "\u001b[1;31mTypeError\u001b[0m: unhashable type: 'set'"
     ]
    }
   ],
   "source": [
    "#can we take a set as a key\n",
    "d6={{1,2,4,5}:\"abc\"}   #no,set cannot be a key(it is of unhashable type)"
   ]
  },
  {
   "cell_type": "code",
   "execution_count": 44,
   "id": "85e59d57",
   "metadata": {},
   "outputs": [
    {
     "ename": "TypeError",
     "evalue": "unhashable type: 'dict'",
     "output_type": "error",
     "traceback": [
      "\u001b[1;31m---------------------------------------------------------------------------\u001b[0m",
      "\u001b[1;31mTypeError\u001b[0m                                 Traceback (most recent call last)",
      "Cell \u001b[1;32mIn[44], line 1\u001b[0m\n\u001b[1;32m----> 1\u001b[0m d7\u001b[38;5;241m=\u001b[39m{{\u001b[38;5;124m\"\u001b[39m\u001b[38;5;124mkey\u001b[39m\u001b[38;5;124m\"\u001b[39m:\u001b[38;5;241m6454\u001b[39m}:\u001b[38;5;241m64683\u001b[39m}\n",
      "\u001b[1;31mTypeError\u001b[0m: unhashable type: 'dict'"
     ]
    }
   ],
   "source": [
    "#can we take a dictionery as a key\n",
    "d7={{\"key\":6454}:64683}    #no dict cannot be a key (it is of unhashable type)"
   ]
  },
  {
   "cell_type": "code",
   "execution_count": 46,
   "id": "dda5be8b",
   "metadata": {},
   "outputs": [
    {
     "data": {
      "text/plain": [
       "{'course': ['dsa', 'webd', 'data science']}"
      ]
     },
     "execution_count": 46,
     "metadata": {},
     "output_type": "execute_result"
    }
   ],
   "source": [
    "#the value of a dictionery can be list \n",
    "d8={\"course\":[\"dsa\",\"webd\",\"data science\"]}\n",
    "d8"
   ]
  },
  {
   "cell_type": "code",
   "execution_count": 47,
   "id": "7e886605",
   "metadata": {},
   "outputs": [
    {
     "data": {
      "text/plain": [
       "{1: (1, 3, 4, 4, 3, 5, 6)}"
      ]
     },
     "execution_count": 47,
     "metadata": {},
     "output_type": "execute_result"
    }
   ],
   "source": [
    "#the value of a dictionery can be tuple\n",
    "d9={1:(1,3,4,4,3,5,6)}\n",
    "d9"
   ]
  },
  {
   "cell_type": "code",
   "execution_count": 48,
   "id": "ddb038ac",
   "metadata": {},
   "outputs": [
    {
     "data": {
      "text/plain": [
       "{1: {1, 2, 34}}"
      ]
     },
     "execution_count": 48,
     "metadata": {},
     "output_type": "execute_result"
    }
   ],
   "source": [
    "#the value of a dictionery can be set\n",
    "d10={1:{1,2,34}}\n",
    "d10"
   ]
  },
  {
   "cell_type": "code",
   "execution_count": null,
   "id": "25d3f91c",
   "metadata": {},
   "outputs": [],
   "source": [
    "#the value of a dictionery can be dictionery "
   ]
  },
  {
   "cell_type": "code",
   "execution_count": 50,
   "id": "5b958493",
   "metadata": {},
   "outputs": [
    {
     "data": {
      "text/plain": [
       "{1: {1: 23, 2: 45}}"
      ]
     },
     "execution_count": 50,
     "metadata": {},
     "output_type": "execute_result"
    }
   ],
   "source": [
    "d11={1:{1:23,2:45}}   #nested dictionery\n",
    "d11"
   ]
  },
  {
   "cell_type": "code",
   "execution_count": 51,
   "id": "128561bc",
   "metadata": {},
   "outputs": [
    {
     "data": {
      "text/plain": [
       "{'batch': ['datasci', 'dsa', 'webd'],\n",
       " 1: ('deepa', 'aman', 'jai'),\n",
       " 2: {1, 2, 3, 4},\n",
       " 3: {'First': 1, 'Second': 2}}"
      ]
     },
     "execution_count": 51,
     "metadata": {},
     "output_type": "execute_result"
    }
   ],
   "source": [
    "#All type of collections in value of dictionary\n",
    "d12={\"batch\":[\"datasci\",\"dsa\",\"webd\"],1:(\"deepa\",\"aman\",\"jai\"),2:{1,2,3,4},3:{\"First\":1,\"Second\":2}}\n",
    "d12"
   ]
  },
  {
   "cell_type": "code",
   "execution_count": 54,
   "id": "9a2a9eaa",
   "metadata": {},
   "outputs": [],
   "source": [
    "#add a new element in a dictionery\n",
    "d12[\"Deepa\"]={\"Aman\"}"
   ]
  },
  {
   "cell_type": "code",
   "execution_count": 55,
   "id": "5499d777",
   "metadata": {},
   "outputs": [
    {
     "data": {
      "text/plain": [
       "{'batch': ['datasci', 'dsa', 'webd'],\n",
       " 1: ('deepa', 'aman', 'jai'),\n",
       " 2: {1, 2, 3, 4},\n",
       " 3: {'First': 1, 'Second': 2},\n",
       " 'Deepa': {'Aman'}}"
      ]
     },
     "execution_count": 55,
     "metadata": {},
     "output_type": "execute_result"
    }
   ],
   "source": [
    "d12"
   ]
  },
  {
   "cell_type": "code",
   "execution_count": null,
   "id": "e4fe6efa",
   "metadata": {},
   "outputs": [],
   "source": [
    "#Key will behave like index while we access the element in a dictionery"
   ]
  },
  {
   "cell_type": "code",
   "execution_count": 56,
   "id": "5c9fd1a9",
   "metadata": {},
   "outputs": [
    {
     "data": {
      "text/plain": [
       "['datasci', 'dsa', 'webd']"
      ]
     },
     "execution_count": 56,
     "metadata": {},
     "output_type": "execute_result"
    }
   ],
   "source": [
    "d12[\"batch\"]"
   ]
  },
  {
   "cell_type": "code",
   "execution_count": 57,
   "id": "7bf3ecef",
   "metadata": {},
   "outputs": [
    {
     "data": {
      "text/plain": [
       "{'Aman'}"
      ]
     },
     "execution_count": 57,
     "metadata": {},
     "output_type": "execute_result"
    }
   ],
   "source": [
    "d12[\"Deepa\"]"
   ]
  },
  {
   "cell_type": "code",
   "execution_count": 58,
   "id": "8f219a6b",
   "metadata": {},
   "outputs": [
    {
     "ename": "KeyError",
     "evalue": "'abc'",
     "output_type": "error",
     "traceback": [
      "\u001b[1;31m---------------------------------------------------------------------------\u001b[0m",
      "\u001b[1;31mKeyError\u001b[0m                                  Traceback (most recent call last)",
      "Cell \u001b[1;32mIn[58], line 1\u001b[0m\n\u001b[1;32m----> 1\u001b[0m \u001b[43md12\u001b[49m\u001b[43m[\u001b[49m\u001b[38;5;124;43m\"\u001b[39;49m\u001b[38;5;124;43mabc\u001b[39;49m\u001b[38;5;124;43m\"\u001b[39;49m\u001b[43m]\u001b[49m\n",
      "\u001b[1;31mKeyError\u001b[0m: 'abc'"
     ]
    }
   ],
   "source": [
    "d12[\"abc\"]   #this key not exist"
   ]
  },
  {
   "cell_type": "code",
   "execution_count": 61,
   "id": "62977ebc",
   "metadata": {},
   "outputs": [
    {
     "ename": "AttributeError",
     "evalue": "'list' object has no attribute 'upper'",
     "output_type": "error",
     "traceback": [
      "\u001b[1;31m---------------------------------------------------------------------------\u001b[0m",
      "\u001b[1;31mAttributeError\u001b[0m                            Traceback (most recent call last)",
      "Cell \u001b[1;32mIn[61], line 2\u001b[0m\n\u001b[0;32m      1\u001b[0m \u001b[38;5;66;03m#make result in upper case\u001b[39;00m\n\u001b[1;32m----> 2\u001b[0m \u001b[43md12\u001b[49m\u001b[43m[\u001b[49m\u001b[38;5;124;43m\"\u001b[39;49m\u001b[38;5;124;43mbatch\u001b[39;49m\u001b[38;5;124;43m\"\u001b[39;49m\u001b[43m]\u001b[49m\u001b[38;5;241;43m.\u001b[39;49m\u001b[43mupper\u001b[49m()\n",
      "\u001b[1;31mAttributeError\u001b[0m: 'list' object has no attribute 'upper'"
     ]
    }
   ],
   "source": [
    "#make result in upper case\n",
    "d12[\"batch\"].upper()"
   ]
  },
  {
   "cell_type": "code",
   "execution_count": 62,
   "id": "64cb9bb5",
   "metadata": {},
   "outputs": [
    {
     "data": {
      "text/plain": [
       "{1: {1: 23, 2: 45}}"
      ]
     },
     "execution_count": 62,
     "metadata": {},
     "output_type": "execute_result"
    }
   ],
   "source": [
    "#Extract the element in a nested dictionery\n",
    "d11"
   ]
  },
  {
   "cell_type": "code",
   "execution_count": 63,
   "id": "37303ceb",
   "metadata": {},
   "outputs": [
    {
     "data": {
      "text/plain": [
       "45"
      ]
     },
     "execution_count": 63,
     "metadata": {},
     "output_type": "execute_result"
    }
   ],
   "source": [
    "d11[1][2]"
   ]
  },
  {
   "cell_type": "code",
   "execution_count": 65,
   "id": "a5e15e18",
   "metadata": {},
   "outputs": [
    {
     "data": {
      "text/plain": [
       "{1: {1: 23, 2: 45}}"
      ]
     },
     "execution_count": 65,
     "metadata": {},
     "output_type": "execute_result"
    }
   ],
   "source": [
    "#add the element in a nested dictionery\n",
    "d11"
   ]
  },
  {
   "cell_type": "code",
   "execution_count": 66,
   "id": "c2dc1542",
   "metadata": {},
   "outputs": [],
   "source": [
    "d11[\"key2\"]=\"Deepa\""
   ]
  },
  {
   "cell_type": "code",
   "execution_count": 67,
   "id": "1575881d",
   "metadata": {},
   "outputs": [
    {
     "data": {
      "text/plain": [
       "{1: {1: 23, 2: 45}, 'key2': 'Deepa'}"
      ]
     },
     "execution_count": 67,
     "metadata": {},
     "output_type": "execute_result"
    }
   ],
   "source": [
    "d11"
   ]
  },
  {
   "cell_type": "code",
   "execution_count": 64,
   "id": "7f3df41f",
   "metadata": {},
   "outputs": [
    {
     "data": {
      "text/plain": [
       "{1: {1: 23, 2: 45}}"
      ]
     },
     "execution_count": 64,
     "metadata": {},
     "output_type": "execute_result"
    }
   ],
   "source": [
    "#delete the element in a nested dictionery\n",
    "d11"
   ]
  },
  {
   "cell_type": "code",
   "execution_count": 68,
   "id": "0e94802f",
   "metadata": {},
   "outputs": [],
   "source": [
    "del d11[\"key2\"]"
   ]
  },
  {
   "cell_type": "code",
   "execution_count": 69,
   "id": "d474b8a1",
   "metadata": {},
   "outputs": [
    {
     "data": {
      "text/plain": [
       "{1: {1: 23, 2: 45}}"
      ]
     },
     "execution_count": 69,
     "metadata": {},
     "output_type": "execute_result"
    }
   ],
   "source": [
    "d11"
   ]
  },
  {
   "cell_type": "code",
   "execution_count": null,
   "id": "8496513a",
   "metadata": {},
   "outputs": [],
   "source": [
    "#clear the dictionery"
   ]
  },
  {
   "cell_type": "code",
   "execution_count": 71,
   "id": "cc7516e4",
   "metadata": {},
   "outputs": [],
   "source": [
    "d11.clear()"
   ]
  },
  {
   "cell_type": "code",
   "execution_count": 72,
   "id": "47dc182d",
   "metadata": {},
   "outputs": [
    {
     "data": {
      "text/plain": [
       "{}"
      ]
     },
     "execution_count": 72,
     "metadata": {},
     "output_type": "execute_result"
    }
   ],
   "source": [
    "d11"
   ]
  },
  {
   "cell_type": "code",
   "execution_count": 73,
   "id": "82569176",
   "metadata": {},
   "outputs": [
    {
     "data": {
      "text/plain": [
       "0"
      ]
     },
     "execution_count": 73,
     "metadata": {},
     "output_type": "execute_result"
    }
   ],
   "source": [
    "#To calculate the no of element\n",
    "len(d11)"
   ]
  },
  {
   "cell_type": "code",
   "execution_count": 75,
   "id": "e6a69e0d",
   "metadata": {},
   "outputs": [
    {
     "data": {
      "text/plain": [
       "{'batch': ['datasci', 'dsa', 'webd'],\n",
       " 1: ('deepa', 'aman', 'jai'),\n",
       " 2: {1, 2, 3, 4},\n",
       " 3: {'First': 1, 'Second': 2},\n",
       " 'Deepa': {'Aman'}}"
      ]
     },
     "execution_count": 75,
     "metadata": {},
     "output_type": "execute_result"
    }
   ],
   "source": [
    "d12"
   ]
  },
  {
   "cell_type": "code",
   "execution_count": 74,
   "id": "92d09075",
   "metadata": {},
   "outputs": [
    {
     "data": {
      "text/plain": [
       "5"
      ]
     },
     "execution_count": 74,
     "metadata": {},
     "output_type": "execute_result"
    }
   ],
   "source": [
    "len(d12)"
   ]
  },
  {
   "cell_type": "code",
   "execution_count": 76,
   "id": "f80255fc",
   "metadata": {},
   "outputs": [
    {
     "data": {
      "text/plain": [
       "dict_keys(['batch', 1, 2, 3, 'Deepa'])"
      ]
     },
     "execution_count": 76,
     "metadata": {},
     "output_type": "execute_result"
    }
   ],
   "source": [
    "#extract all keys only\n",
    "d12.keys()"
   ]
  },
  {
   "cell_type": "code",
   "execution_count": 77,
   "id": "7feac824",
   "metadata": {},
   "outputs": [
    {
     "data": {
      "text/plain": [
       "dict_values([['datasci', 'dsa', 'webd'], ('deepa', 'aman', 'jai'), {1, 2, 3, 4}, {'First': 1, 'Second': 2}, {'Aman'}])"
      ]
     },
     "execution_count": 77,
     "metadata": {},
     "output_type": "execute_result"
    }
   ],
   "source": [
    "#Extract all the vlaues\n",
    "d12.values()"
   ]
  },
  {
   "cell_type": "code",
   "execution_count": 78,
   "id": "549591b8",
   "metadata": {},
   "outputs": [
    {
     "data": {
      "text/plain": [
       "[['datasci', 'dsa', 'webd'],\n",
       " ('deepa', 'aman', 'jai'),\n",
       " {1, 2, 3, 4},\n",
       " {'First': 1, 'Second': 2},\n",
       " {'Aman'}]"
      ]
     },
     "execution_count": 78,
     "metadata": {},
     "output_type": "execute_result"
    }
   ],
   "source": [
    "#show this in form of list\n",
    "list(d12.values())"
   ]
  },
  {
   "cell_type": "code",
   "execution_count": 80,
   "id": "b25db436",
   "metadata": {},
   "outputs": [
    {
     "data": {
      "text/plain": [
       "[('batch', ['datasci', 'dsa', 'webd']),\n",
       " (1, ('deepa', 'aman', 'jai')),\n",
       " (2, {1, 2, 3, 4}),\n",
       " (3, {'First': 1, 'Second': 2}),\n",
       " ('Deepa', {'Aman'})]"
      ]
     },
     "execution_count": 80,
     "metadata": {},
     "output_type": "execute_result"
    }
   ],
   "source": [
    "#Extract a list of key value pair both\n",
    "list(d12.items())   #no of tuple = no of the key value pair"
   ]
  },
  {
   "cell_type": "code",
   "execution_count": 82,
   "id": "94ab2ca7",
   "metadata": {},
   "outputs": [],
   "source": [
    "#Copy the data of one dictionery into another\n",
    "d13=d12.copy()"
   ]
  },
  {
   "cell_type": "code",
   "execution_count": 83,
   "id": "1b589859",
   "metadata": {},
   "outputs": [
    {
     "data": {
      "text/plain": [
       "{'batch': ['datasci', 'dsa', 'webd'],\n",
       " 1: ('deepa', 'aman', 'jai'),\n",
       " 2: {1, 2, 3, 4},\n",
       " 3: {'First': 1, 'Second': 2},\n",
       " 'Deepa': {'Aman'}}"
      ]
     },
     "execution_count": 83,
     "metadata": {},
     "output_type": "execute_result"
    }
   ],
   "source": [
    "d13   #Use of copy keyword do deep coping (trying to reserve a new space and place the data there)"
   ]
  },
  {
   "cell_type": "code",
   "execution_count": 84,
   "id": "db0649cf",
   "metadata": {},
   "outputs": [],
   "source": [
    "d14=d13"
   ]
  },
  {
   "cell_type": "code",
   "execution_count": 85,
   "id": "35e0678b",
   "metadata": {},
   "outputs": [
    {
     "data": {
      "text/plain": [
       "{'batch': ['datasci', 'dsa', 'webd'],\n",
       " 1: ('deepa', 'aman', 'jai'),\n",
       " 2: {1, 2, 3, 4},\n",
       " 3: {'First': 1, 'Second': 2},\n",
       " 'Deepa': {'Aman'}}"
      ]
     },
     "execution_count": 85,
     "metadata": {},
     "output_type": "execute_result"
    }
   ],
   "source": [
    "d14   "
   ]
  },
  {
   "cell_type": "code",
   "execution_count": 86,
   "id": "b0229bed",
   "metadata": {},
   "outputs": [],
   "source": [
    "#Difference b/w both way of copying the dictionery\n",
    "del d12[\"Deepa\"]"
   ]
  },
  {
   "cell_type": "code",
   "execution_count": 87,
   "id": "b53e4b03",
   "metadata": {},
   "outputs": [
    {
     "data": {
      "text/plain": [
       "{'batch': ['datasci', 'dsa', 'webd'],\n",
       " 1: ('deepa', 'aman', 'jai'),\n",
       " 2: {1, 2, 3, 4},\n",
       " 3: {'First': 1, 'Second': 2}}"
      ]
     },
     "execution_count": 87,
     "metadata": {},
     "output_type": "execute_result"
    }
   ],
   "source": [
    "d12  #Deepa key will be deleted "
   ]
  },
  {
   "cell_type": "code",
   "execution_count": 88,
   "id": "fef747fd",
   "metadata": {},
   "outputs": [
    {
     "data": {
      "text/plain": [
       "{'batch': ['datasci', 'dsa', 'webd'],\n",
       " 1: ('deepa', 'aman', 'jai'),\n",
       " 2: {1, 2, 3, 4},\n",
       " 3: {'First': 1, 'Second': 2},\n",
       " 'Deepa': {'Aman'}}"
      ]
     },
     "execution_count": 88,
     "metadata": {},
     "output_type": "execute_result"
    }
   ],
   "source": [
    "d13   #Deepa key is present here"
   ]
  },
  {
   "cell_type": "code",
   "execution_count": null,
   "id": "c0c017cc",
   "metadata": {},
   "outputs": [],
   "source": [
    "del d13[3]"
   ]
  },
  {
   "cell_type": "code",
   "execution_count": 91,
   "id": "25b1a1dd",
   "metadata": {},
   "outputs": [
    {
     "data": {
      "text/plain": [
       "{'batch': ['datasci', 'dsa', 'webd'],\n",
       " 1: ('deepa', 'aman', 'jai'),\n",
       " 2: {1, 2, 3, 4},\n",
       " 'Deepa': {'Aman'}}"
      ]
     },
     "execution_count": 91,
     "metadata": {},
     "output_type": "execute_result"
    }
   ],
   "source": [
    "d13   # 3 key will be deleted now"
   ]
  },
  {
   "cell_type": "code",
   "execution_count": 92,
   "id": "19374305",
   "metadata": {},
   "outputs": [
    {
     "data": {
      "text/plain": [
       "{'batch': ['datasci', 'dsa', 'webd'],\n",
       " 1: ('deepa', 'aman', 'jai'),\n",
       " 2: {1, 2, 3, 4},\n",
       " 'Deepa': {'Aman'}}"
      ]
     },
     "execution_count": 92,
     "metadata": {},
     "output_type": "execute_result"
    }
   ],
   "source": [
    "d14  #3 key is also deleted from here  (Solo copying)"
   ]
  },
  {
   "cell_type": "markdown",
   "id": "40ac8ec7",
   "metadata": {},
   "source": [
    "# so the difference is copy using copy keyword ,the change in one dictionery will not affect the other dictionery\n",
    "#but copying without keyword ,the change will be shown in both dictionery"
   ]
  },
  {
   "cell_type": "code",
   "execution_count": 93,
   "id": "1aa3b68e",
   "metadata": {},
   "outputs": [
    {
     "data": {
      "text/plain": [
       "{'batch': ['datasci', 'dsa', 'webd'],\n",
       " 1: ('deepa', 'aman', 'jai'),\n",
       " 2: {1, 2, 3, 4},\n",
       " 'Deepa': {'Aman'}}"
      ]
     },
     "execution_count": 93,
     "metadata": {},
     "output_type": "execute_result"
    }
   ],
   "source": [
    "#remove last element\n",
    "d13"
   ]
  },
  {
   "cell_type": "code",
   "execution_count": 94,
   "id": "539cd877",
   "metadata": {},
   "outputs": [
    {
     "data": {
      "text/plain": [
       "{'Aman'}"
      ]
     },
     "execution_count": 94,
     "metadata": {},
     "output_type": "execute_result"
    }
   ],
   "source": [
    "d13.pop(\"Deepa\")   #remove a specific key and return the corresponding value\n",
    "                #pop function required parameters"
   ]
  },
  {
   "cell_type": "code",
   "execution_count": 95,
   "id": "3e80c93d",
   "metadata": {},
   "outputs": [
    {
     "data": {
      "text/plain": [
       "{'batch': ['datasci', 'dsa', 'webd'],\n",
       " 1: ('deepa', 'aman', 'jai'),\n",
       " 2: {1, 2, 3, 4}}"
      ]
     },
     "execution_count": 95,
     "metadata": {},
     "output_type": "execute_result"
    }
   ],
   "source": [
    "d13"
   ]
  },
  {
   "cell_type": "code",
   "execution_count": 96,
   "id": "2bab8c5e",
   "metadata": {},
   "outputs": [
    {
     "data": {
      "text/plain": [
       "{1: ('a', 'b', 'c'), 2: ('a', 'b', 'c'), 3: ('a', 'b', 'c')}"
      ]
     },
     "execution_count": 96,
     "metadata": {},
     "output_type": "execute_result"
    }
   ],
   "source": [
    "# first parameter is keys and second parameter is values\n",
    "d13.fromkeys((1,2,3),(\"a\",\"b\",\"c\"))"
   ]
  },
  {
   "cell_type": "code",
   "execution_count": 97,
   "id": "d25853da",
   "metadata": {},
   "outputs": [],
   "source": [
    "#dictionery inside tuple\n",
    "dict15={\"key1\":\"value1\",\"key2\":\"value2\"}\n",
    "dict16={\"key3\":\"value3\",\"key4\":\"value4\"}"
   ]
  },
  {
   "cell_type": "code",
   "execution_count": 98,
   "id": "e7330cf3",
   "metadata": {},
   "outputs": [
    {
     "data": {
      "text/plain": [
       "({'key1': 'value1', 'key2': 'value2'}, {'key3': 'value3', 'key4': 'value4'})"
      ]
     },
     "execution_count": 98,
     "metadata": {},
     "output_type": "execute_result"
    }
   ],
   "source": [
    "(dict15,dict16)"
   ]
  },
  {
   "cell_type": "code",
   "execution_count": 99,
   "id": "8837ebd1",
   "metadata": {},
   "outputs": [],
   "source": [
    "#update function\n",
    "dict15.update(dict16)"
   ]
  },
  {
   "cell_type": "code",
   "execution_count": 100,
   "id": "20e9ebc2",
   "metadata": {},
   "outputs": [
    {
     "data": {
      "text/plain": [
       "{'key1': 'value1', 'key2': 'value2', 'key3': 'value3', 'key4': 'value4'}"
      ]
     },
     "execution_count": 100,
     "metadata": {},
     "output_type": "execute_result"
    }
   ],
   "source": [
    "dict15  #dict15 will get all the key value pair of dict16"
   ]
  },
  {
   "cell_type": "code",
   "execution_count": 101,
   "id": "9b4dd91f",
   "metadata": {},
   "outputs": [
    {
     "data": {
      "text/plain": [
       "{'key3': 'value3', 'key4': 'value4'}"
      ]
     },
     "execution_count": 101,
     "metadata": {},
     "output_type": "execute_result"
    }
   ],
   "source": [
    "dict16"
   ]
  },
  {
   "cell_type": "code",
   "execution_count": 102,
   "id": "bfad9979",
   "metadata": {},
   "outputs": [
    {
     "data": {
      "text/plain": [
       "'value3'"
      ]
     },
     "execution_count": 102,
     "metadata": {},
     "output_type": "execute_result"
    }
   ],
   "source": [
    "#get function\n",
    "dict15.get(\"key3\")"
   ]
  },
  {
   "cell_type": "code",
   "execution_count": 105,
   "id": "1f0043b6",
   "metadata": {},
   "outputs": [
    {
     "data": {
      "text/plain": [
       "'value3'"
      ]
     },
     "execution_count": 105,
     "metadata": {},
     "output_type": "execute_result"
    }
   ],
   "source": [
    "dict15[\"key3\"]   #same answer as above"
   ]
  },
  {
   "cell_type": "code",
   "execution_count": null,
   "id": "8c640392",
   "metadata": {},
   "outputs": [],
   "source": [
    "#but the difference is:get function will not give anything if the key is not present in the dictionery\n",
    "#but the simple access will show error if the key is not present in the dictionery"
   ]
  },
  {
   "cell_type": "code",
   "execution_count": 107,
   "id": "eb9d7bc1",
   "metadata": {},
   "outputs": [],
   "source": [
    "dict15.get(\"Deepa\")"
   ]
  },
  {
   "cell_type": "code",
   "execution_count": 106,
   "id": "4f646c61",
   "metadata": {},
   "outputs": [
    {
     "ename": "KeyError",
     "evalue": "'Deepa'",
     "output_type": "error",
     "traceback": [
      "\u001b[1;31m---------------------------------------------------------------------------\u001b[0m",
      "\u001b[1;31mKeyError\u001b[0m                                  Traceback (most recent call last)",
      "Cell \u001b[1;32mIn[106], line 1\u001b[0m\n\u001b[1;32m----> 1\u001b[0m \u001b[43mdict15\u001b[49m\u001b[43m[\u001b[49m\u001b[38;5;124;43m\"\u001b[39;49m\u001b[38;5;124;43mDeepa\u001b[39;49m\u001b[38;5;124;43m\"\u001b[39;49m\u001b[43m]\u001b[49m\n",
      "\u001b[1;31mKeyError\u001b[0m: 'Deepa'"
     ]
    }
   ],
   "source": [
    "dict15[\"Deepa\"]"
   ]
  },
  {
   "cell_type": "markdown",
   "id": "8b14be26",
   "metadata": {},
   "source": [
    "#dictionery comprehension"
   ]
  },
  {
   "cell_type": "code",
   "execution_count": null,
   "id": "6d7505c6",
   "metadata": {},
   "outputs": [],
   "source": [
    "#Exercise\n",
    "#We want a dictionery of keys 1-10 and the values will be the square of the key "
   ]
  },
  {
   "cell_type": "code",
   "execution_count": 108,
   "id": "48ebaa4d",
   "metadata": {},
   "outputs": [
    {
     "name": "stderr",
     "output_type": "stream",
     "text": [
      "<>:1: SyntaxWarning: invalid decimal literal\n",
      "<>:1: SyntaxWarning: invalid decimal literal\n",
      "C:\\Users\\WELCOME\\AppData\\Local\\Temp\\ipykernel_29160\\914100005.py:1: SyntaxWarning: invalid decimal literal\n",
      "  { i:i**2for i in range(1,11)}\n"
     ]
    },
    {
     "data": {
      "text/plain": [
       "{1: 1, 2: 4, 3: 9, 4: 16, 5: 25, 6: 36, 7: 49, 8: 64, 9: 81, 10: 100}"
      ]
     },
     "execution_count": 108,
     "metadata": {},
     "output_type": "execute_result"
    }
   ],
   "source": [
    "{ i:i**2for i in range(1,11)}"
   ]
  },
  {
   "cell_type": "code",
   "execution_count": 112,
   "id": "427eadb6",
   "metadata": {},
   "outputs": [],
   "source": [
    "#Exercise\n",
    "#create a dictionery of keys and the value is the logarithmic of the key\n",
    "import math\n",
    "d17={i:math.log10(i) for i in range(1,11)}"
   ]
  },
  {
   "cell_type": "code",
   "execution_count": 113,
   "id": "776a5e7e",
   "metadata": {},
   "outputs": [
    {
     "data": {
      "text/plain": [
       "{1: 0.0,\n",
       " 2: 0.3010299956639812,\n",
       " 3: 0.47712125471966244,\n",
       " 4: 0.6020599913279624,\n",
       " 5: 0.6989700043360189,\n",
       " 6: 0.7781512503836436,\n",
       " 7: 0.8450980400142568,\n",
       " 8: 0.9030899869919435,\n",
       " 9: 0.9542425094393249,\n",
       " 10: 1.0}"
      ]
     },
     "execution_count": 113,
     "metadata": {},
     "output_type": "execute_result"
    }
   ],
   "source": [
    "d17"
   ]
  },
  {
   "cell_type": "code",
   "execution_count": 111,
   "id": "65cd4070",
   "metadata": {},
   "outputs": [
    {
     "data": {
      "text/plain": [
       "{'batch': ['datasci', 'dsa', 'webd'],\n",
       " 1: ('deepa', 'aman', 'jai'),\n",
       " 2: {1, 2, 3, 4}}"
      ]
     },
     "execution_count": 111,
     "metadata": {},
     "output_type": "execute_result"
    }
   ],
   "source": [
    "d13"
   ]
  },
  {
   "cell_type": "code",
   "execution_count": 110,
   "id": "c8fd14ac",
   "metadata": {},
   "outputs": [
    {
     "data": {
      "text/plain": [
       "True"
      ]
     },
     "execution_count": 110,
     "metadata": {},
     "output_type": "execute_result"
    }
   ],
   "source": [
    "#to find a key in the dictionery\n",
    "2 in d13"
   ]
  },
  {
   "cell_type": "code",
   "execution_count": null,
   "id": "e5fbbe16",
   "metadata": {},
   "outputs": [],
   "source": [
    "#Exercise\n",
    "#create a dictionery of keys and the value is the logarithmic of the key\n",
    "#Extract only the even term of key"
   ]
  },
  {
   "cell_type": "code",
   "execution_count": 115,
   "id": "f8c27c66",
   "metadata": {},
   "outputs": [
    {
     "data": {
      "text/plain": [
       "{1: 0.0,\n",
       " 2: 0.3010299956639812,\n",
       " 3: 0.47712125471966244,\n",
       " 4: 0.6020599913279624,\n",
       " 5: 0.6989700043360189,\n",
       " 6: 0.7781512503836436,\n",
       " 7: 0.8450980400142568,\n",
       " 8: 0.9030899869919435,\n",
       " 9: 0.9542425094393249,\n",
       " 10: 1.0}"
      ]
     },
     "execution_count": 115,
     "metadata": {},
     "output_type": "execute_result"
    }
   ],
   "source": [
    "d17"
   ]
  },
  {
   "cell_type": "code",
   "execution_count": 114,
   "id": "9d559edf",
   "metadata": {},
   "outputs": [
    {
     "name": "stdout",
     "output_type": "stream",
     "text": [
      "0.3010299956639812\n",
      "0.6020599913279624\n",
      "0.7781512503836436\n",
      "0.9030899869919435\n",
      "1.0\n"
     ]
    }
   ],
   "source": [
    "for i in d17.keys():\n",
    "    if i%2==0:\n",
    "        print(d17[i])"
   ]
  },
  {
   "cell_type": "code",
   "execution_count": 7,
   "id": "ca2c83b2",
   "metadata": {},
   "outputs": [
    {
     "name": "stdout",
     "output_type": "stream",
     "text": [
      "024\n",
      "024\n",
      "02\n",
      "02\n",
      "0\n"
     ]
    }
   ],
   "source": [
    "length=5\n",
    "while(length!=0):\n",
    "    j=0\n",
    "    while(j<=20):\n",
    "        print(j,end=\"\")\n",
    "        j+=2\n",
    "    print(\"\")\n",
    "    length-=1"
   ]
  }
 ],
 "metadata": {
  "kernelspec": {
   "display_name": "Python 3 (ipykernel)",
   "language": "python",
   "name": "python3"
  },
  "language_info": {
   "codemirror_mode": {
    "name": "ipython",
    "version": 3
   },
   "file_extension": ".py",
   "mimetype": "text/x-python",
   "name": "python",
   "nbconvert_exporter": "python",
   "pygments_lexer": "ipython3",
   "version": "3.11.0"
  }
 },
 "nbformat": 4,
 "nbformat_minor": 5
}

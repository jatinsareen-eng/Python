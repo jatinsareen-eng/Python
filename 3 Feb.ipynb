{
 "cells": [
  {
   "cell_type": "code",
   "execution_count": 1,
   "id": "fa904a45",
   "metadata": {},
   "outputs": [
    {
     "data": {
      "text/plain": [
       "12"
      ]
     },
     "execution_count": 1,
     "metadata": {},
     "output_type": "execute_result"
    }
   ],
   "source": [
    "#function\n",
    "l=[1,2,4,6,7,8,5,3,6,4,5,8]\n",
    "len(l)"
   ]
  },
  {
   "cell_type": "code",
   "execution_count": 2,
   "id": "b1b5376e",
   "metadata": {},
   "outputs": [],
   "source": [
    "#Create our own function\n",
    "# use def to provide definition of the function\n",
    "def test():\n",
    "    pass       #pass allows us to leave a function without body and dont show an error"
   ]
  },
  {
   "cell_type": "code",
   "execution_count": 3,
   "id": "bfd338a0",
   "metadata": {},
   "outputs": [],
   "source": [
    "def test1():\n",
    "    print(\"This is my first function\")"
   ]
  },
  {
   "cell_type": "code",
   "execution_count": 5,
   "id": "61f3859d",
   "metadata": {},
   "outputs": [
    {
     "name": "stdout",
     "output_type": "stream",
     "text": [
      "This is my first function\n"
     ]
    }
   ],
   "source": [
    "test1()"
   ]
  },
  {
   "cell_type": "code",
   "execution_count": 6,
   "id": "9b59697e",
   "metadata": {},
   "outputs": [
    {
     "name": "stdout",
     "output_type": "stream",
     "text": [
      "This is my first function\n"
     ]
    },
    {
     "ename": "TypeError",
     "evalue": "unsupported operand type(s) for +: 'NoneType' and 'str'",
     "output_type": "error",
     "traceback": [
      "\u001b[1;31m---------------------------------------------------------------------------\u001b[0m",
      "\u001b[1;31mTypeError\u001b[0m                                 Traceback (most recent call last)",
      "Cell \u001b[1;32mIn[6], line 2\u001b[0m\n\u001b[0;32m      1\u001b[0m \u001b[38;5;66;03m#Append the output of the string with a string\u001b[39;00m\n\u001b[1;32m----> 2\u001b[0m \u001b[43mtest1\u001b[49m\u001b[43m(\u001b[49m\u001b[43m)\u001b[49m\u001b[38;5;241;43m+\u001b[39;49m\u001b[38;5;124;43m\"\u001b[39;49m\u001b[38;5;124;43mDeepa\u001b[39;49m\u001b[38;5;124;43m\"\u001b[39;49m  \u001b[38;5;66;03m#generate error\u001b[39;00m\n",
      "\u001b[1;31mTypeError\u001b[0m: unsupported operand type(s) for +: 'NoneType' and 'str'"
     ]
    }
   ],
   "source": [
    "#Append the output of the string with a string\n",
    "test1()+\"Deepa\"  #generate error\n",
    "#because print type is only return the nontype as output"
   ]
  },
  {
   "cell_type": "code",
   "execution_count": 7,
   "id": "4edb0fba",
   "metadata": {},
   "outputs": [],
   "source": [
    "#The solution of this \n",
    "def test2():\n",
    "    return(\"This is the second function\")"
   ]
  },
  {
   "cell_type": "code",
   "execution_count": 10,
   "id": "e8cf43e4",
   "metadata": {},
   "outputs": [
    {
     "data": {
      "text/plain": [
       "'This is the second function Deepa'"
      ]
     },
     "execution_count": 10,
     "metadata": {},
     "output_type": "execute_result"
    }
   ],
   "source": [
    "test2()+\" Deepa\"  #cancate this time\n",
    "#because the return gives the same datatype as provided\n",
    "#so use always return not print"
   ]
  },
  {
   "cell_type": "code",
   "execution_count": null,
   "id": "a0c35a64",
   "metadata": {},
   "outputs": [],
   "source": [
    "#function get provide multiple output pf diiferent datatypes"
   ]
  },
  {
   "cell_type": "code",
   "execution_count": 12,
   "id": "6e50201d",
   "metadata": {},
   "outputs": [],
   "source": [
    "def test3():\n",
    "    return 1,2,34.56,\"Deepa\""
   ]
  },
  {
   "cell_type": "code",
   "execution_count": 14,
   "id": "0ba8ad8a",
   "metadata": {},
   "outputs": [
    {
     "data": {
      "text/plain": [
       "(1, 2, 34.56, 'Deepa')"
      ]
     },
     "execution_count": 14,
     "metadata": {},
     "output_type": "execute_result"
    }
   ],
   "source": [
    "test3()"
   ]
  },
  {
   "cell_type": "code",
   "execution_count": 24,
   "id": "d83ef621",
   "metadata": {},
   "outputs": [
    {
     "data": {
      "text/plain": [
       "1"
      ]
     },
     "execution_count": 24,
     "metadata": {},
     "output_type": "execute_result"
    }
   ],
   "source": [
    "test3()[0]   #Get separate return"
   ]
  },
  {
   "cell_type": "code",
   "execution_count": 26,
   "id": "8ed4939c",
   "metadata": {},
   "outputs": [
    {
     "data": {
      "text/plain": [
       "2"
      ]
     },
     "execution_count": 26,
     "metadata": {},
     "output_type": "execute_result"
    }
   ],
   "source": [
    "test3()[1]   #Get separate return"
   ]
  },
  {
   "cell_type": "code",
   "execution_count": 27,
   "id": "db84b9b9",
   "metadata": {},
   "outputs": [
    {
     "data": {
      "text/plain": [
       "34.56"
      ]
     },
     "execution_count": 27,
     "metadata": {},
     "output_type": "execute_result"
    }
   ],
   "source": [
    "test3()[2]    #Get separate return"
   ]
  },
  {
   "cell_type": "code",
   "execution_count": 28,
   "id": "0676a4d6",
   "metadata": {},
   "outputs": [
    {
     "data": {
      "text/plain": [
       "'Deepa'"
      ]
     },
     "execution_count": 28,
     "metadata": {},
     "output_type": "execute_result"
    }
   ],
   "source": [
    "test3()[3]     #Get separate return"
   ]
  },
  {
   "cell_type": "code",
   "execution_count": 29,
   "id": "aab9bda6",
   "metadata": {},
   "outputs": [],
   "source": [
    "#We can assign returns to multiple variable\n",
    "w,x,y,z=test3()"
   ]
  },
  {
   "cell_type": "code",
   "execution_count": 30,
   "id": "cb3877dd",
   "metadata": {},
   "outputs": [
    {
     "data": {
      "text/plain": [
       "1"
      ]
     },
     "execution_count": 30,
     "metadata": {},
     "output_type": "execute_result"
    }
   ],
   "source": [
    "w"
   ]
  },
  {
   "cell_type": "code",
   "execution_count": 31,
   "id": "89b0dcb2",
   "metadata": {},
   "outputs": [
    {
     "data": {
      "text/plain": [
       "2"
      ]
     },
     "execution_count": 31,
     "metadata": {},
     "output_type": "execute_result"
    }
   ],
   "source": [
    "x"
   ]
  },
  {
   "cell_type": "code",
   "execution_count": 32,
   "id": "b3a06678",
   "metadata": {},
   "outputs": [
    {
     "data": {
      "text/plain": [
       "34.56"
      ]
     },
     "execution_count": 32,
     "metadata": {},
     "output_type": "execute_result"
    }
   ],
   "source": [
    "y"
   ]
  },
  {
   "cell_type": "code",
   "execution_count": 33,
   "id": "9650700f",
   "metadata": {},
   "outputs": [
    {
     "data": {
      "text/plain": [
       "'Deepa'"
      ]
     },
     "execution_count": 33,
     "metadata": {},
     "output_type": "execute_result"
    }
   ],
   "source": [
    "z"
   ]
  },
  {
   "cell_type": "code",
   "execution_count": 15,
   "id": "98922973",
   "metadata": {},
   "outputs": [],
   "source": [
    "a=2,3,4,5,6  #single variable contain multiple values"
   ]
  },
  {
   "cell_type": "code",
   "execution_count": 16,
   "id": "7a79d065",
   "metadata": {},
   "outputs": [
    {
     "data": {
      "text/plain": [
       "(2, 3, 4, 5, 6)"
      ]
     },
     "execution_count": 16,
     "metadata": {},
     "output_type": "execute_result"
    }
   ],
   "source": [
    "a"
   ]
  },
  {
   "cell_type": "code",
   "execution_count": 17,
   "id": "5286c6a9",
   "metadata": {},
   "outputs": [],
   "source": [
    "a,b,c,d=1,2,34.56,\"Deepa\""
   ]
  },
  {
   "cell_type": "code",
   "execution_count": 18,
   "id": "84080714",
   "metadata": {},
   "outputs": [
    {
     "data": {
      "text/plain": [
       "1"
      ]
     },
     "execution_count": 18,
     "metadata": {},
     "output_type": "execute_result"
    }
   ],
   "source": [
    "a"
   ]
  },
  {
   "cell_type": "code",
   "execution_count": 19,
   "id": "ced9c4d3",
   "metadata": {},
   "outputs": [
    {
     "data": {
      "text/plain": [
       "2"
      ]
     },
     "execution_count": 19,
     "metadata": {},
     "output_type": "execute_result"
    }
   ],
   "source": [
    "b"
   ]
  },
  {
   "cell_type": "code",
   "execution_count": 20,
   "id": "62baaf4a",
   "metadata": {},
   "outputs": [
    {
     "data": {
      "text/plain": [
       "34.56"
      ]
     },
     "execution_count": 20,
     "metadata": {},
     "output_type": "execute_result"
    }
   ],
   "source": [
    "c"
   ]
  },
  {
   "cell_type": "code",
   "execution_count": 21,
   "id": "6712403b",
   "metadata": {},
   "outputs": [
    {
     "data": {
      "text/plain": [
       "'Deepa'"
      ]
     },
     "execution_count": 21,
     "metadata": {},
     "output_type": "execute_result"
    }
   ],
   "source": [
    "d"
   ]
  },
  {
   "cell_type": "code",
   "execution_count": 34,
   "id": "01023204",
   "metadata": {},
   "outputs": [],
   "source": [
    "def test4():\n",
    "    a=2*3+5\n",
    "    return a"
   ]
  },
  {
   "cell_type": "code",
   "execution_count": 35,
   "id": "dbdc1220",
   "metadata": {},
   "outputs": [
    {
     "data": {
      "text/plain": [
       "11"
      ]
     },
     "execution_count": 35,
     "metadata": {},
     "output_type": "execute_result"
    }
   ],
   "source": [
    "test4()"
   ]
  },
  {
   "cell_type": "code",
   "execution_count": 36,
   "id": "aa70ce7b",
   "metadata": {},
   "outputs": [],
   "source": [
    "#function with parameters\n",
    "def test5(a,b):\n",
    "    c=a+b\n",
    "    return c"
   ]
  },
  {
   "cell_type": "code",
   "execution_count": 39,
   "id": "93920465",
   "metadata": {},
   "outputs": [
    {
     "data": {
      "text/plain": [
       "37.56"
      ]
     },
     "execution_count": 39,
     "metadata": {},
     "output_type": "execute_result"
    }
   ],
   "source": [
    "test5(34.56,3)"
   ]
  },
  {
   "cell_type": "code",
   "execution_count": 40,
   "id": "8ce36222",
   "metadata": {},
   "outputs": [
    {
     "data": {
      "text/plain": [
       "'Deepa gupta'"
      ]
     },
     "execution_count": 40,
     "metadata": {},
     "output_type": "execute_result"
    }
   ],
   "source": [
    "test5(\"Deepa\",\" gupta\")"
   ]
  },
  {
   "cell_type": "code",
   "execution_count": 41,
   "id": "d5e1b6f3",
   "metadata": {},
   "outputs": [
    {
     "data": {
      "text/plain": [
       "[1, 2, 3, 4, 5, 6, 7, 8, 9, 10]"
      ]
     },
     "execution_count": 41,
     "metadata": {},
     "output_type": "execute_result"
    }
   ],
   "source": [
    "test5([1,2,3,4,5],[6,7,8,9,10])"
   ]
  },
  {
   "cell_type": "code",
   "execution_count": 42,
   "id": "b6419d4b",
   "metadata": {},
   "outputs": [
    {
     "data": {
      "text/plain": [
       "'deepa gupta'"
      ]
     },
     "execution_count": 42,
     "metadata": {},
     "output_type": "execute_result"
    }
   ],
   "source": [
    "test5(b=\" gupta\",a=\"deepa\") #irrespective of the order of parameters"
   ]
  },
  {
   "cell_type": "code",
   "execution_count": 94,
   "id": "e362f1a4",
   "metadata": {},
   "outputs": [],
   "source": [
    "#Write  a function that will take below list as a input and return the only int values as output\n",
    "list1=[1,2,3,4,5,\"Deepa\",\"Gupta\",[2,4,5,6,77,77,88,54]]"
   ]
  },
  {
   "cell_type": "code",
   "execution_count": 77,
   "id": "12d408b9",
   "metadata": {},
   "outputs": [],
   "source": [
    "#this function will give integer values of outer list\n",
    "def separate(a):    #a will be any list\n",
    "    n=[]\n",
    "    for i in a:\n",
    "        if type(i)==int or type(i)==float:\n",
    "            n.append(i)\n",
    "    return n"
   ]
  },
  {
   "cell_type": "code",
   "execution_count": 78,
   "id": "94463081",
   "metadata": {},
   "outputs": [
    {
     "data": {
      "text/plain": [
       "[1, 2, 3, 4, 5]"
      ]
     },
     "execution_count": 78,
     "metadata": {},
     "output_type": "execute_result"
    }
   ],
   "source": [
    "separate(list1)"
   ]
  },
  {
   "cell_type": "code",
   "execution_count": 95,
   "id": "745ea038",
   "metadata": {},
   "outputs": [],
   "source": [
    "#this function will give integer values of nested list as well\n",
    "def separate2(a):\n",
    "    n=[]\n",
    "    for i in a:\n",
    "        if type(i)==list:\n",
    "            for j in i:\n",
    "                if type(j)==int or type(j)==float:\n",
    "                    n.append(j)\n",
    "        else:\n",
    "            if type(i)==int or type(i)==float:\n",
    "                n.append(i)\n",
    "    return n"
   ]
  },
  {
   "cell_type": "code",
   "execution_count": 96,
   "id": "f5aecb5d",
   "metadata": {},
   "outputs": [
    {
     "data": {
      "text/plain": [
       "[1, 2, 3, 4, 5]"
      ]
     },
     "execution_count": 96,
     "metadata": {},
     "output_type": "execute_result"
    }
   ],
   "source": [
    "separate2(list1)"
   ]
  },
  {
   "cell_type": "code",
   "execution_count": 97,
   "id": "000b9eeb",
   "metadata": {},
   "outputs": [],
   "source": [
    "#When we dont know the number of parameters to pass to a function\n",
    "def test1(*args):\n",
    "    return args"
   ]
  },
  {
   "cell_type": "code",
   "execution_count": 98,
   "id": "cd3110a1",
   "metadata": {},
   "outputs": [
    {
     "data": {
      "text/plain": [
       "(2,)"
      ]
     },
     "execution_count": 98,
     "metadata": {},
     "output_type": "execute_result"
    }
   ],
   "source": [
    "test1(2)"
   ]
  },
  {
   "cell_type": "code",
   "execution_count": 100,
   "id": "166bd528",
   "metadata": {},
   "outputs": [
    {
     "data": {
      "text/plain": [
       "([1, 34, 5, 6], (5, 7, 8, 9, 5), 'string')"
      ]
     },
     "execution_count": 100,
     "metadata": {},
     "output_type": "execute_result"
    }
   ],
   "source": [
    "test1([1,34,5,6],(5,7,8,9,5),\"string\")  #takes any number of argument"
   ]
  },
  {
   "cell_type": "code",
   "execution_count": 102,
   "id": "b5047497",
   "metadata": {},
   "outputs": [],
   "source": [
    "def test2(*Deepa):\n",
    "    return Deepa"
   ]
  },
  {
   "cell_type": "code",
   "execution_count": 103,
   "id": "0768f7f7",
   "metadata": {},
   "outputs": [
    {
     "data": {
      "text/plain": [
       "(8, 9)"
      ]
     },
     "execution_count": 103,
     "metadata": {},
     "output_type": "execute_result"
    }
   ],
   "source": [
    "test2(8,9)"
   ]
  },
  {
   "cell_type": "code",
   "execution_count": 105,
   "id": "e223f611",
   "metadata": {},
   "outputs": [],
   "source": [
    "def test3(*args,a):\n",
    "    return args,a"
   ]
  },
  {
   "cell_type": "code",
   "execution_count": 106,
   "id": "c8d3432a",
   "metadata": {},
   "outputs": [
    {
     "ename": "TypeError",
     "evalue": "test3() missing 1 required keyword-only argument: 'a'",
     "output_type": "error",
     "traceback": [
      "\u001b[1;31m---------------------------------------------------------------------------\u001b[0m",
      "\u001b[1;31mTypeError\u001b[0m                                 Traceback (most recent call last)",
      "Cell \u001b[1;32mIn[106], line 1\u001b[0m\n\u001b[1;32m----> 1\u001b[0m \u001b[43mtest3\u001b[49m\u001b[43m(\u001b[49m\u001b[38;5;241;43m4\u001b[39;49m\u001b[43m)\u001b[49m\n",
      "\u001b[1;31mTypeError\u001b[0m: test3() missing 1 required keyword-only argument: 'a'"
     ]
    }
   ],
   "source": [
    "test3(4)   #Error a is missing"
   ]
  },
  {
   "cell_type": "code",
   "execution_count": 107,
   "id": "382bc2ad",
   "metadata": {},
   "outputs": [
    {
     "data": {
      "text/plain": [
       "((1, 4, 5, 6), 'Deepa')"
      ]
     },
     "execution_count": 107,
     "metadata": {},
     "output_type": "execute_result"
    }
   ],
   "source": [
    "test3(1,4,5,6,a=\"Deepa\")"
   ]
  },
  {
   "cell_type": "code",
   "execution_count": null,
   "id": "0a8bbd48",
   "metadata": {},
   "outputs": [],
   "source": [
    "#create a function we will pass multiple type data and it will return only the list data"
   ]
  },
  {
   "cell_type": "code",
   "execution_count": 2,
   "id": "ffc7822a",
   "metadata": {},
   "outputs": [],
   "source": [
    "def func1(*args):\n",
    "    l=[]\n",
    "    for i in args:\n",
    "        if type(i)==list:\n",
    "            l.append(i)\n",
    "            \n",
    "    return l        #both function is working fine in pw lab but not here"
   ]
  },
  {
   "cell_type": "code",
   "execution_count": 4,
   "id": "67c929c3",
   "metadata": {},
   "outputs": [
    {
     "data": {
      "text/plain": [
       "[[1, 2, 3, 4, 6, 6], [5, 6, 7, 'Aman'], [1, 3, 5]]"
      ]
     },
     "execution_count": 4,
     "metadata": {},
     "output_type": "execute_result"
    }
   ],
   "source": [
    "func1(1,2,3,4,[1,2,3,4,6,6],(4,5,6,7,8,5,4),{4,5,3,5,3,5},\"Deepa\",[5,6,7,\"Aman\"],[1,3,5])"
   ]
  },
  {
   "cell_type": "code",
   "execution_count": null,
   "id": "b12d69a6",
   "metadata": {},
   "outputs": [],
   "source": []
  },
  {
   "cell_type": "code",
   "execution_count": null,
   "id": "91cc1527",
   "metadata": {},
   "outputs": [],
   "source": []
  },
  {
   "cell_type": "code",
   "execution_count": null,
   "id": "c10257c0",
   "metadata": {},
   "outputs": [],
   "source": [
    "#Now create a function with multiple parameters in the form of the dictionery"
   ]
  },
  {
   "cell_type": "code",
   "execution_count": 127,
   "id": "37e43f21",
   "metadata": {},
   "outputs": [],
   "source": [
    "def func1(**kwargs): #this ** means take any number of input but in the form of key and value \n",
    "   return kwargs "
   ]
  },
  {
   "cell_type": "code",
   "execution_count": 128,
   "id": "8368b35f",
   "metadata": {},
   "outputs": [
    {
     "data": {
      "text/plain": [
       "{}"
      ]
     },
     "execution_count": 128,
     "metadata": {},
     "output_type": "execute_result"
    }
   ],
   "source": [
    "func1()   #Func1 is a empty dictionery now(no arguments passed)"
   ]
  },
  {
   "cell_type": "code",
   "execution_count": 132,
   "id": "22e76d30",
   "metadata": {},
   "outputs": [
    {
     "data": {
      "text/plain": [
       "{'a': 2,\n",
       " 'b': 3,\n",
       " 'v': 5,\n",
       " 'c': [1, 2, 3, 4, 7],\n",
       " 'd': (4, 5, 6, 6),\n",
       " 'p': ('name', 'Deepa')}"
      ]
     },
     "execution_count": 132,
     "metadata": {},
     "output_type": "execute_result"
    }
   ],
   "source": [
    "func1(a=2,b=3,v=5,c=[1,2,3,4,7],d=(4,5,6,6),p=(\"name\",\"Deepa\"))  "
   ]
  },
  {
   "cell_type": "code",
   "execution_count": 6,
   "id": "b413fc77",
   "metadata": {},
   "outputs": [],
   "source": [
    "def test6(**kwargs):   #Kwargs is not a keyword here it can be any word\n",
    "    for i in kwargs.keys():\n",
    "        if type(kwargs[i])==list:\n",
    "            return i,kwargs[i]"
   ]
  },
  {
   "cell_type": "code",
   "execution_count": 7,
   "id": "e976453e",
   "metadata": {},
   "outputs": [
    {
     "data": {
      "text/plain": [
       "('c', [1, 2, 3, 4, 7])"
      ]
     },
     "execution_count": 7,
     "metadata": {},
     "output_type": "execute_result"
    }
   ],
   "source": [
    "test6(a=2,b=3,v=5,c=[1,2,3,4,7],d=(4,5,6,6),p=(\"name\",\"Deepa\"))"
   ]
  },
  {
   "cell_type": "code",
   "execution_count": 8,
   "id": "de584bcc",
   "metadata": {},
   "outputs": [],
   "source": [
    "def test7(*args,**kwargs):   #this \n",
    "    return args ,kwargs "
   ]
  },
  {
   "cell_type": "code",
   "execution_count": 15,
   "id": "fb14beed",
   "metadata": {},
   "outputs": [
    {
     "data": {
      "text/plain": [
       "((1, 4, 6, 8, 6), {'a': 45, 'b': 67, 'c': 6})"
      ]
     },
     "execution_count": 15,
     "metadata": {},
     "output_type": "execute_result"
    }
   ],
   "source": [
    "test7(1,4,6,8,6,a=45,b=67,c=6)  #returns a tuple of tuple and dictionery"
   ]
  },
  {
   "cell_type": "markdown",
   "id": "9a880bae",
   "metadata": {},
   "source": [
    "<H2>#Generator function:It helps in writing function in a more efficient way rather than blocking the memory space"
   ]
  },
  {
   "cell_type": "code",
   "execution_count": 16,
   "id": "1686ec13",
   "metadata": {},
   "outputs": [
    {
     "data": {
      "text/plain": [
       "range(1, 10)"
      ]
     },
     "execution_count": 16,
     "metadata": {},
     "output_type": "execute_result"
    }
   ],
   "source": [
    "range(1,10)  #this will not work outside for loop"
   ]
  },
  {
   "cell_type": "code",
   "execution_count": 17,
   "id": "506142cd",
   "metadata": {},
   "outputs": [
    {
     "name": "stdout",
     "output_type": "stream",
     "text": [
      "1\n",
      "2\n",
      "3\n",
      "4\n",
      "5\n",
      "6\n",
      "7\n",
      "8\n",
      "9\n"
     ]
    }
   ],
   "source": [
    "for i in range(1,10):\n",
    "    print(i)"
   ]
  },
  {
   "cell_type": "code",
   "execution_count": 18,
   "id": "b1d18042",
   "metadata": {},
   "outputs": [],
   "source": [
    "l=[1,2,3,4,5,67,8,\"Deepa\",\"Gupta\"]"
   ]
  },
  {
   "cell_type": "code",
   "execution_count": 19,
   "id": "0e3fb930",
   "metadata": {},
   "outputs": [],
   "source": [
    "def test10(a):\n",
    "    n=[]\n",
    "    for i in a:\n",
    "        if type(i)==int:\n",
    "            n.append(i)\n",
    "    return n"
   ]
  },
  {
   "cell_type": "code",
   "execution_count": 20,
   "id": "36dab0f7",
   "metadata": {},
   "outputs": [
    {
     "data": {
      "text/plain": [
       "[1, 2, 3, 4, 5, 67, 8]"
      ]
     },
     "execution_count": 20,
     "metadata": {},
     "output_type": "execute_result"
    }
   ],
   "source": [
    "test10(l)"
   ]
  },
  {
   "cell_type": "markdown",
   "id": "0d61de97",
   "metadata": {},
   "source": [
    "<H4> #If the a contain billion no of inputs inside the list then this function is iterate billion no of times to provide the n list in return "
   ]
  },
  {
   "cell_type": "markdown",
   "id": "1d33358b",
   "metadata": {},
   "source": [
    "<h6>#alternative of this\n",
    "    \n",
    "#range is also a functin but it is not giving me a data but the function test10 does\n",
    "    \n",
    "    \n",
    "#The range is not allote the data to some memory space as the function does\n",
    "    \n",
    "    \n",
    "#The range only tries to remember the last data not the whole data\n",
    "    \n",
    "    \n",
    "#on the basis of the last data it generates the next data \n",
    "    \n",
    "    \n",
    "#How to create range as a function\n",
    "    \n",
    "    \n",
    "#yield keyword help us in generating function"
   ]
  },
  {
   "cell_type": "code",
   "execution_count": null,
   "id": "51899476",
   "metadata": {},
   "outputs": [],
   "source": [
    "#Fibonacci series\n",
    "0,1,1,2,3,5,8,13,21,34......\n",
    "#This will work as add previous 2 digits,return the ans and forget it and go ahead do same for other"
   ]
  },
  {
   "cell_type": "code",
   "execution_count": 2,
   "id": "2e256d66",
   "metadata": {},
   "outputs": [],
   "source": [
    "def test_fib(n):\n",
    "    a,b=0,1\n",
    "    for i in range(n):\n",
    "        yield a   #this yield will return the result one by one when we put it inside the loop\n",
    "        a,b=b,a+b          #instead of iterating the whole dataset"
   ]
  },
  {
   "cell_type": "code",
   "execution_count": 3,
   "id": "b7dd7034",
   "metadata": {},
   "outputs": [
    {
     "data": {
      "text/plain": [
       "<generator object test_fib at 0x0000027CF9008A90>"
      ]
     },
     "execution_count": 3,
     "metadata": {},
     "output_type": "execute_result"
    }
   ],
   "source": [
    "test_fib(12)"
   ]
  },
  {
   "cell_type": "code",
   "execution_count": 4,
   "id": "c73bbf40",
   "metadata": {},
   "outputs": [
    {
     "name": "stdout",
     "output_type": "stream",
     "text": [
      "0\n",
      "1\n",
      "1\n",
      "2\n",
      "3\n",
      "5\n",
      "8\n",
      "13\n",
      "21\n",
      "34\n",
      "55\n",
      "89\n"
     ]
    }
   ],
   "source": [
    "for i in test_fib(12):\n",
    "    print(i)"
   ]
  },
  {
   "cell_type": "code",
   "execution_count": 53,
   "id": "86f2ffec",
   "metadata": {},
   "outputs": [],
   "source": [
    "def isprime(n):\n",
    "    for i in range (2,n):\n",
    "        if n%i==0:\n",
    "            return False\n",
    "    return True"
   ]
  },
  {
   "cell_type": "code",
   "execution_count": 57,
   "id": "cf12c35d",
   "metadata": {},
   "outputs": [],
   "source": [
    "def prime_num2(n):\n",
    "    for i in range(2,n):\n",
    "        if isprime(i)==True:\n",
    "            yield i"
   ]
  },
  {
   "cell_type": "code",
   "execution_count": 58,
   "id": "e01cf6e4",
   "metadata": {},
   "outputs": [
    {
     "data": {
      "text/plain": [
       "<generator object prime_num2 at 0x00000256111A49E0>"
      ]
     },
     "execution_count": 58,
     "metadata": {},
     "output_type": "execute_result"
    }
   ],
   "source": [
    "prime_num2(10)"
   ]
  },
  {
   "cell_type": "code",
   "execution_count": 59,
   "id": "91cce46a",
   "metadata": {},
   "outputs": [
    {
     "name": "stdout",
     "output_type": "stream",
     "text": [
      "2\n",
      "3\n",
      "5\n",
      "7\n",
      "11\n",
      "13\n",
      "17\n",
      "19\n",
      "23\n",
      "29\n",
      "31\n",
      "37\n",
      "41\n",
      "43\n",
      "47\n",
      "53\n",
      "59\n",
      "61\n",
      "67\n",
      "71\n",
      "73\n",
      "79\n",
      "83\n",
      "89\n",
      "97\n"
     ]
    }
   ],
   "source": [
    "for i in prime_num2(100):\n",
    "    print(i)"
   ]
  },
  {
   "cell_type": "code",
   "execution_count": null,
   "id": "f278d9c4",
   "metadata": {},
   "outputs": [],
   "source": [
    "print(next(prime_num2)\n",
    "print(next(prime_num2)\n",
    "print(next(prime_num2)\n",
    "print(next(prime_num2)\n",
    "print(next(prime_num2)\n",
    "print(next(prime_num2)\n",
    "print(next(prime_num2)\n",
    "print(next(prime_num2)\n",
    "print(next(prime_num2)\n",
    "print(next(prime_num2)\n",
    "print(next(prime_num2)\n",
    "print(next(prime_num2)\n",
    "print(next(prime_num2)\n",
    "print(next(prime_num2)\n",
    "print(next(prime_num2)\n",
    "print(next(prime_num2)\n",
    "print(next(prime_num2)\n",
    "print(next(prime_num2)\n",
    "print(next(prime_num2)"
   ]
  }
 ],
 "metadata": {
  "kernelspec": {
   "display_name": "Python 3 (ipykernel)",
   "language": "python",
   "name": "python3"
  },
  "language_info": {
   "codemirror_mode": {
    "name": "ipython",
    "version": 3
   },
   "file_extension": ".py",
   "mimetype": "text/x-python",
   "name": "python",
   "nbconvert_exporter": "python",
   "pygments_lexer": "ipython3",
   "version": "3.11.0"
  }
 },
 "nbformat": 4,
 "nbformat_minor": 5
}
